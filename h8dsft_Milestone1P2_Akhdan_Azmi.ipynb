{
 "cells": [
  {
   "cell_type": "markdown",
   "metadata": {},
   "source": [
    "# Milestone 1\n"
   ]
  },
  {
   "cell_type": "markdown",
   "metadata": {},
   "source": [
    "# 1. Introduction\n",
    "\n",
    "Name        : Akhdan Azmi\n",
    "\n",
    "Batch       : RMT-15\n",
    "\n",
    "Data        : Telco Customer Churn (https://www.kaggle.com/datasets/blastchar/telco-customer-churn)\n",
    "\n",
    "Objective   : Predict behavior to retain customers"
   ]
  },
  {
   "cell_type": "markdown",
   "metadata": {},
   "source": [
    "# 2. Import Library"
   ]
  },
  {
   "cell_type": "code",
   "execution_count": 1,
   "metadata": {},
   "outputs": [],
   "source": [
    "import pandas as pd\n",
    "import numpy as np\n",
    "import seaborn as sns\n",
    "import matplotlib.pyplot as plt\n",
    "import warnings\n",
    "warnings.filterwarnings(\"ignore\")\n",
    "\n",
    "from sklearn.pipeline import Pipeline\n",
    "from sklearn.model_selection import train_test_split, GridSearchCV, cross_val_score, RepeatedStratifiedKFold\n",
    "from imblearn.over_sampling import SMOTE \n",
    "\n",
    "import tensorflow as tf\n",
    "import kerastuner as kt\n",
    "from tensorflow import keras\n",
    "from tensorflow.keras.models import Sequential\n",
    "from tensorflow.keras.layers import Dense\n",
    "from tensorflow.keras.layers import Input\n",
    "from tensorflow.keras import Model \n",
    "from keras.wrappers.scikit_learn import KerasClassifier\n",
    "tf.random.set_seed(3)\n",
    "\n",
    "import joblib\n",
    "import json\n",
    "import pickle\n",
    "from shutil import make_archive\n",
    "from zipfile import ZipFile\n",
    "\n",
    "from sklearn.preprocessing import MinMaxScaler, OneHotEncoder, LabelEncoder, OrdinalEncoder\n",
    "from sklearn.metrics import classification_report, accuracy_score, precision_score, recall_score, confusion_matrix,ConfusionMatrixDisplay"
   ]
  },
  {
   "cell_type": "code",
   "execution_count": 2,
   "metadata": {},
   "outputs": [
    {
     "name": "stdout",
     "output_type": "stream",
     "text": [
      "2.10.0\n"
     ]
    }
   ],
   "source": [
    "print(tf.__version__)"
   ]
  },
  {
   "cell_type": "markdown",
   "metadata": {},
   "source": [
    "# 3. Load Data\n"
   ]
  },
  {
   "cell_type": "code",
   "execution_count": 3,
   "metadata": {},
   "outputs": [
    {
     "data": {
      "text/html": [
       "<div>\n",
       "<style scoped>\n",
       "    .dataframe tbody tr th:only-of-type {\n",
       "        vertical-align: middle;\n",
       "    }\n",
       "\n",
       "    .dataframe tbody tr th {\n",
       "        vertical-align: top;\n",
       "    }\n",
       "\n",
       "    .dataframe thead th {\n",
       "        text-align: right;\n",
       "    }\n",
       "</style>\n",
       "<table border=\"1\" class=\"dataframe\">\n",
       "  <thead>\n",
       "    <tr style=\"text-align: right;\">\n",
       "      <th></th>\n",
       "      <th>customerID</th>\n",
       "      <th>gender</th>\n",
       "      <th>SeniorCitizen</th>\n",
       "      <th>Partner</th>\n",
       "      <th>Dependents</th>\n",
       "      <th>tenure</th>\n",
       "      <th>PhoneService</th>\n",
       "      <th>MultipleLines</th>\n",
       "      <th>InternetService</th>\n",
       "      <th>OnlineSecurity</th>\n",
       "      <th>...</th>\n",
       "      <th>DeviceProtection</th>\n",
       "      <th>TechSupport</th>\n",
       "      <th>StreamingTV</th>\n",
       "      <th>StreamingMovies</th>\n",
       "      <th>Contract</th>\n",
       "      <th>PaperlessBilling</th>\n",
       "      <th>PaymentMethod</th>\n",
       "      <th>MonthlyCharges</th>\n",
       "      <th>TotalCharges</th>\n",
       "      <th>Churn</th>\n",
       "    </tr>\n",
       "  </thead>\n",
       "  <tbody>\n",
       "    <tr>\n",
       "      <th>0</th>\n",
       "      <td>7590-VHVEG</td>\n",
       "      <td>Female</td>\n",
       "      <td>0</td>\n",
       "      <td>Yes</td>\n",
       "      <td>No</td>\n",
       "      <td>1</td>\n",
       "      <td>No</td>\n",
       "      <td>No phone service</td>\n",
       "      <td>DSL</td>\n",
       "      <td>No</td>\n",
       "      <td>...</td>\n",
       "      <td>No</td>\n",
       "      <td>No</td>\n",
       "      <td>No</td>\n",
       "      <td>No</td>\n",
       "      <td>Month-to-month</td>\n",
       "      <td>Yes</td>\n",
       "      <td>Electronic check</td>\n",
       "      <td>29.85</td>\n",
       "      <td>29.85</td>\n",
       "      <td>No</td>\n",
       "    </tr>\n",
       "    <tr>\n",
       "      <th>1</th>\n",
       "      <td>5575-GNVDE</td>\n",
       "      <td>Male</td>\n",
       "      <td>0</td>\n",
       "      <td>No</td>\n",
       "      <td>No</td>\n",
       "      <td>34</td>\n",
       "      <td>Yes</td>\n",
       "      <td>No</td>\n",
       "      <td>DSL</td>\n",
       "      <td>Yes</td>\n",
       "      <td>...</td>\n",
       "      <td>Yes</td>\n",
       "      <td>No</td>\n",
       "      <td>No</td>\n",
       "      <td>No</td>\n",
       "      <td>One year</td>\n",
       "      <td>No</td>\n",
       "      <td>Mailed check</td>\n",
       "      <td>56.95</td>\n",
       "      <td>1889.5</td>\n",
       "      <td>No</td>\n",
       "    </tr>\n",
       "    <tr>\n",
       "      <th>2</th>\n",
       "      <td>3668-QPYBK</td>\n",
       "      <td>Male</td>\n",
       "      <td>0</td>\n",
       "      <td>No</td>\n",
       "      <td>No</td>\n",
       "      <td>2</td>\n",
       "      <td>Yes</td>\n",
       "      <td>No</td>\n",
       "      <td>DSL</td>\n",
       "      <td>Yes</td>\n",
       "      <td>...</td>\n",
       "      <td>No</td>\n",
       "      <td>No</td>\n",
       "      <td>No</td>\n",
       "      <td>No</td>\n",
       "      <td>Month-to-month</td>\n",
       "      <td>Yes</td>\n",
       "      <td>Mailed check</td>\n",
       "      <td>53.85</td>\n",
       "      <td>108.15</td>\n",
       "      <td>Yes</td>\n",
       "    </tr>\n",
       "    <tr>\n",
       "      <th>3</th>\n",
       "      <td>7795-CFOCW</td>\n",
       "      <td>Male</td>\n",
       "      <td>0</td>\n",
       "      <td>No</td>\n",
       "      <td>No</td>\n",
       "      <td>45</td>\n",
       "      <td>No</td>\n",
       "      <td>No phone service</td>\n",
       "      <td>DSL</td>\n",
       "      <td>Yes</td>\n",
       "      <td>...</td>\n",
       "      <td>Yes</td>\n",
       "      <td>Yes</td>\n",
       "      <td>No</td>\n",
       "      <td>No</td>\n",
       "      <td>One year</td>\n",
       "      <td>No</td>\n",
       "      <td>Bank transfer (automatic)</td>\n",
       "      <td>42.30</td>\n",
       "      <td>1840.75</td>\n",
       "      <td>No</td>\n",
       "    </tr>\n",
       "    <tr>\n",
       "      <th>4</th>\n",
       "      <td>9237-HQITU</td>\n",
       "      <td>Female</td>\n",
       "      <td>0</td>\n",
       "      <td>No</td>\n",
       "      <td>No</td>\n",
       "      <td>2</td>\n",
       "      <td>Yes</td>\n",
       "      <td>No</td>\n",
       "      <td>Fiber optic</td>\n",
       "      <td>No</td>\n",
       "      <td>...</td>\n",
       "      <td>No</td>\n",
       "      <td>No</td>\n",
       "      <td>No</td>\n",
       "      <td>No</td>\n",
       "      <td>Month-to-month</td>\n",
       "      <td>Yes</td>\n",
       "      <td>Electronic check</td>\n",
       "      <td>70.70</td>\n",
       "      <td>151.65</td>\n",
       "      <td>Yes</td>\n",
       "    </tr>\n",
       "  </tbody>\n",
       "</table>\n",
       "<p>5 rows × 21 columns</p>\n",
       "</div>"
      ],
      "text/plain": [
       "   customerID  gender  SeniorCitizen Partner Dependents  tenure PhoneService  \\\n",
       "0  7590-VHVEG  Female              0     Yes         No       1           No   \n",
       "1  5575-GNVDE    Male              0      No         No      34          Yes   \n",
       "2  3668-QPYBK    Male              0      No         No       2          Yes   \n",
       "3  7795-CFOCW    Male              0      No         No      45           No   \n",
       "4  9237-HQITU  Female              0      No         No       2          Yes   \n",
       "\n",
       "      MultipleLines InternetService OnlineSecurity  ... DeviceProtection  \\\n",
       "0  No phone service             DSL             No  ...               No   \n",
       "1                No             DSL            Yes  ...              Yes   \n",
       "2                No             DSL            Yes  ...               No   \n",
       "3  No phone service             DSL            Yes  ...              Yes   \n",
       "4                No     Fiber optic             No  ...               No   \n",
       "\n",
       "  TechSupport StreamingTV StreamingMovies        Contract PaperlessBilling  \\\n",
       "0          No          No              No  Month-to-month              Yes   \n",
       "1          No          No              No        One year               No   \n",
       "2          No          No              No  Month-to-month              Yes   \n",
       "3         Yes          No              No        One year               No   \n",
       "4          No          No              No  Month-to-month              Yes   \n",
       "\n",
       "               PaymentMethod MonthlyCharges  TotalCharges Churn  \n",
       "0           Electronic check          29.85         29.85    No  \n",
       "1               Mailed check          56.95        1889.5    No  \n",
       "2               Mailed check          53.85        108.15   Yes  \n",
       "3  Bank transfer (automatic)          42.30       1840.75    No  \n",
       "4           Electronic check          70.70        151.65   Yes  \n",
       "\n",
       "[5 rows x 21 columns]"
      ]
     },
     "execution_count": 3,
     "metadata": {},
     "output_type": "execute_result"
    }
   ],
   "source": [
    "data = pd.read_csv('WA_Fn-UseC_-Telco-Customer-Churn.csv')\n",
    "data.head()"
   ]
  },
  {
   "cell_type": "code",
   "execution_count": 4,
   "metadata": {},
   "outputs": [
    {
     "data": {
      "text/html": [
       "<div>\n",
       "<style scoped>\n",
       "    .dataframe tbody tr th:only-of-type {\n",
       "        vertical-align: middle;\n",
       "    }\n",
       "\n",
       "    .dataframe tbody tr th {\n",
       "        vertical-align: top;\n",
       "    }\n",
       "\n",
       "    .dataframe thead th {\n",
       "        text-align: right;\n",
       "    }\n",
       "</style>\n",
       "<table border=\"1\" class=\"dataframe\">\n",
       "  <thead>\n",
       "    <tr style=\"text-align: right;\">\n",
       "      <th></th>\n",
       "      <th>customerID</th>\n",
       "      <th>gender</th>\n",
       "      <th>SeniorCitizen</th>\n",
       "      <th>Partner</th>\n",
       "      <th>Dependents</th>\n",
       "      <th>tenure</th>\n",
       "      <th>PhoneService</th>\n",
       "      <th>MultipleLines</th>\n",
       "      <th>InternetService</th>\n",
       "      <th>OnlineSecurity</th>\n",
       "      <th>...</th>\n",
       "      <th>DeviceProtection</th>\n",
       "      <th>TechSupport</th>\n",
       "      <th>StreamingTV</th>\n",
       "      <th>StreamingMovies</th>\n",
       "      <th>Contract</th>\n",
       "      <th>PaperlessBilling</th>\n",
       "      <th>PaymentMethod</th>\n",
       "      <th>MonthlyCharges</th>\n",
       "      <th>TotalCharges</th>\n",
       "      <th>Churn</th>\n",
       "    </tr>\n",
       "  </thead>\n",
       "  <tbody>\n",
       "    <tr>\n",
       "      <th>7038</th>\n",
       "      <td>6840-RESVB</td>\n",
       "      <td>Male</td>\n",
       "      <td>0</td>\n",
       "      <td>Yes</td>\n",
       "      <td>Yes</td>\n",
       "      <td>24</td>\n",
       "      <td>Yes</td>\n",
       "      <td>Yes</td>\n",
       "      <td>DSL</td>\n",
       "      <td>Yes</td>\n",
       "      <td>...</td>\n",
       "      <td>Yes</td>\n",
       "      <td>Yes</td>\n",
       "      <td>Yes</td>\n",
       "      <td>Yes</td>\n",
       "      <td>One year</td>\n",
       "      <td>Yes</td>\n",
       "      <td>Mailed check</td>\n",
       "      <td>84.80</td>\n",
       "      <td>1990.5</td>\n",
       "      <td>No</td>\n",
       "    </tr>\n",
       "    <tr>\n",
       "      <th>7039</th>\n",
       "      <td>2234-XADUH</td>\n",
       "      <td>Female</td>\n",
       "      <td>0</td>\n",
       "      <td>Yes</td>\n",
       "      <td>Yes</td>\n",
       "      <td>72</td>\n",
       "      <td>Yes</td>\n",
       "      <td>Yes</td>\n",
       "      <td>Fiber optic</td>\n",
       "      <td>No</td>\n",
       "      <td>...</td>\n",
       "      <td>Yes</td>\n",
       "      <td>No</td>\n",
       "      <td>Yes</td>\n",
       "      <td>Yes</td>\n",
       "      <td>One year</td>\n",
       "      <td>Yes</td>\n",
       "      <td>Credit card (automatic)</td>\n",
       "      <td>103.20</td>\n",
       "      <td>7362.9</td>\n",
       "      <td>No</td>\n",
       "    </tr>\n",
       "    <tr>\n",
       "      <th>7040</th>\n",
       "      <td>4801-JZAZL</td>\n",
       "      <td>Female</td>\n",
       "      <td>0</td>\n",
       "      <td>Yes</td>\n",
       "      <td>Yes</td>\n",
       "      <td>11</td>\n",
       "      <td>No</td>\n",
       "      <td>No phone service</td>\n",
       "      <td>DSL</td>\n",
       "      <td>Yes</td>\n",
       "      <td>...</td>\n",
       "      <td>No</td>\n",
       "      <td>No</td>\n",
       "      <td>No</td>\n",
       "      <td>No</td>\n",
       "      <td>Month-to-month</td>\n",
       "      <td>Yes</td>\n",
       "      <td>Electronic check</td>\n",
       "      <td>29.60</td>\n",
       "      <td>346.45</td>\n",
       "      <td>No</td>\n",
       "    </tr>\n",
       "    <tr>\n",
       "      <th>7041</th>\n",
       "      <td>8361-LTMKD</td>\n",
       "      <td>Male</td>\n",
       "      <td>1</td>\n",
       "      <td>Yes</td>\n",
       "      <td>No</td>\n",
       "      <td>4</td>\n",
       "      <td>Yes</td>\n",
       "      <td>Yes</td>\n",
       "      <td>Fiber optic</td>\n",
       "      <td>No</td>\n",
       "      <td>...</td>\n",
       "      <td>No</td>\n",
       "      <td>No</td>\n",
       "      <td>No</td>\n",
       "      <td>No</td>\n",
       "      <td>Month-to-month</td>\n",
       "      <td>Yes</td>\n",
       "      <td>Mailed check</td>\n",
       "      <td>74.40</td>\n",
       "      <td>306.6</td>\n",
       "      <td>Yes</td>\n",
       "    </tr>\n",
       "    <tr>\n",
       "      <th>7042</th>\n",
       "      <td>3186-AJIEK</td>\n",
       "      <td>Male</td>\n",
       "      <td>0</td>\n",
       "      <td>No</td>\n",
       "      <td>No</td>\n",
       "      <td>66</td>\n",
       "      <td>Yes</td>\n",
       "      <td>No</td>\n",
       "      <td>Fiber optic</td>\n",
       "      <td>Yes</td>\n",
       "      <td>...</td>\n",
       "      <td>Yes</td>\n",
       "      <td>Yes</td>\n",
       "      <td>Yes</td>\n",
       "      <td>Yes</td>\n",
       "      <td>Two year</td>\n",
       "      <td>Yes</td>\n",
       "      <td>Bank transfer (automatic)</td>\n",
       "      <td>105.65</td>\n",
       "      <td>6844.5</td>\n",
       "      <td>No</td>\n",
       "    </tr>\n",
       "  </tbody>\n",
       "</table>\n",
       "<p>5 rows × 21 columns</p>\n",
       "</div>"
      ],
      "text/plain": [
       "      customerID  gender  SeniorCitizen Partner Dependents  tenure  \\\n",
       "7038  6840-RESVB    Male              0     Yes        Yes      24   \n",
       "7039  2234-XADUH  Female              0     Yes        Yes      72   \n",
       "7040  4801-JZAZL  Female              0     Yes        Yes      11   \n",
       "7041  8361-LTMKD    Male              1     Yes         No       4   \n",
       "7042  3186-AJIEK    Male              0      No         No      66   \n",
       "\n",
       "     PhoneService     MultipleLines InternetService OnlineSecurity  ...  \\\n",
       "7038          Yes               Yes             DSL            Yes  ...   \n",
       "7039          Yes               Yes     Fiber optic             No  ...   \n",
       "7040           No  No phone service             DSL            Yes  ...   \n",
       "7041          Yes               Yes     Fiber optic             No  ...   \n",
       "7042          Yes                No     Fiber optic            Yes  ...   \n",
       "\n",
       "     DeviceProtection TechSupport StreamingTV StreamingMovies        Contract  \\\n",
       "7038              Yes         Yes         Yes             Yes        One year   \n",
       "7039              Yes          No         Yes             Yes        One year   \n",
       "7040               No          No          No              No  Month-to-month   \n",
       "7041               No          No          No              No  Month-to-month   \n",
       "7042              Yes         Yes         Yes             Yes        Two year   \n",
       "\n",
       "     PaperlessBilling              PaymentMethod MonthlyCharges  TotalCharges  \\\n",
       "7038              Yes               Mailed check          84.80        1990.5   \n",
       "7039              Yes    Credit card (automatic)         103.20        7362.9   \n",
       "7040              Yes           Electronic check          29.60        346.45   \n",
       "7041              Yes               Mailed check          74.40         306.6   \n",
       "7042              Yes  Bank transfer (automatic)         105.65        6844.5   \n",
       "\n",
       "     Churn  \n",
       "7038    No  \n",
       "7039    No  \n",
       "7040    No  \n",
       "7041   Yes  \n",
       "7042    No  \n",
       "\n",
       "[5 rows x 21 columns]"
      ]
     },
     "execution_count": 4,
     "metadata": {},
     "output_type": "execute_result"
    }
   ],
   "source": [
    "data.tail()"
   ]
  },
  {
   "cell_type": "code",
   "execution_count": 5,
   "metadata": {},
   "outputs": [
    {
     "name": "stdout",
     "output_type": "stream",
     "text": [
      "<class 'pandas.core.frame.DataFrame'>\n",
      "RangeIndex: 7043 entries, 0 to 7042\n",
      "Data columns (total 21 columns):\n",
      " #   Column            Non-Null Count  Dtype  \n",
      "---  ------            --------------  -----  \n",
      " 0   customerID        7043 non-null   object \n",
      " 1   gender            7043 non-null   object \n",
      " 2   SeniorCitizen     7043 non-null   int64  \n",
      " 3   Partner           7043 non-null   object \n",
      " 4   Dependents        7043 non-null   object \n",
      " 5   tenure            7043 non-null   int64  \n",
      " 6   PhoneService      7043 non-null   object \n",
      " 7   MultipleLines     7043 non-null   object \n",
      " 8   InternetService   7043 non-null   object \n",
      " 9   OnlineSecurity    7043 non-null   object \n",
      " 10  OnlineBackup      7043 non-null   object \n",
      " 11  DeviceProtection  7043 non-null   object \n",
      " 12  TechSupport       7043 non-null   object \n",
      " 13  StreamingTV       7043 non-null   object \n",
      " 14  StreamingMovies   7043 non-null   object \n",
      " 15  Contract          7043 non-null   object \n",
      " 16  PaperlessBilling  7043 non-null   object \n",
      " 17  PaymentMethod     7043 non-null   object \n",
      " 18  MonthlyCharges    7043 non-null   float64\n",
      " 19  TotalCharges      7043 non-null   object \n",
      " 20  Churn             7043 non-null   object \n",
      "dtypes: float64(1), int64(2), object(18)\n",
      "memory usage: 1.1+ MB\n"
     ]
    }
   ],
   "source": [
    "# make a copy and show the general information\n",
    "\n",
    "df = data.copy()\n",
    "\n",
    "df.info()"
   ]
  },
  {
   "cell_type": "markdown",
   "metadata": {},
   "source": [
    "- Telco Custumer Churn memiliki 7043 baris dan 21 kolom dengan typedata float(1), integer(2), dan object(18)\n",
    "- Berdasarkan deskripsi data, kita perlu mengubah tipe data kolom `TotalCharges` dan `SeniorCitizen` menjadi float dan object\n",
    " "
   ]
  },
  {
   "cell_type": "code",
   "execution_count": 6,
   "metadata": {},
   "outputs": [
    {
     "name": "stdout",
     "output_type": "stream",
     "text": [
      "<class 'pandas.core.frame.DataFrame'>\n",
      "RangeIndex: 7043 entries, 0 to 7042\n",
      "Data columns (total 21 columns):\n",
      " #   Column            Non-Null Count  Dtype  \n",
      "---  ------            --------------  -----  \n",
      " 0   customerID        7043 non-null   object \n",
      " 1   gender            7043 non-null   object \n",
      " 2   SeniorCitizen     7043 non-null   object \n",
      " 3   Partner           7043 non-null   object \n",
      " 4   Dependents        7043 non-null   object \n",
      " 5   tenure            7043 non-null   int64  \n",
      " 6   PhoneService      7043 non-null   object \n",
      " 7   MultipleLines     7043 non-null   object \n",
      " 8   InternetService   7043 non-null   object \n",
      " 9   OnlineSecurity    7043 non-null   object \n",
      " 10  OnlineBackup      7043 non-null   object \n",
      " 11  DeviceProtection  7043 non-null   object \n",
      " 12  TechSupport       7043 non-null   object \n",
      " 13  StreamingTV       7043 non-null   object \n",
      " 14  StreamingMovies   7043 non-null   object \n",
      " 15  Contract          7043 non-null   object \n",
      " 16  PaperlessBilling  7043 non-null   object \n",
      " 17  PaymentMethod     7043 non-null   object \n",
      " 18  MonthlyCharges    7043 non-null   float64\n",
      " 19  TotalCharges      7032 non-null   float64\n",
      " 20  Churn             7043 non-null   object \n",
      "dtypes: float64(2), int64(1), object(18)\n",
      "memory usage: 1.1+ MB\n"
     ]
    }
   ],
   "source": [
    "# Mengubah tipe data kolom `TotalCharges` dan `SeniorCitizen`\n",
    "\n",
    "df.TotalCharges =pd.to_numeric(df.TotalCharges,errors = 'coerce')\n",
    "df.SeniorCitizen = df.SeniorCitizen.astype('object')\n",
    "\n",
    "df.info()"
   ]
  },
  {
   "cell_type": "markdown",
   "metadata": {},
   "source": [
    "# 4. Exploratory Data Analysis"
   ]
  },
  {
   "cell_type": "code",
   "execution_count": 7,
   "metadata": {},
   "outputs": [
    {
     "data": {
      "text/html": [
       "<div>\n",
       "<style scoped>\n",
       "    .dataframe tbody tr th:only-of-type {\n",
       "        vertical-align: middle;\n",
       "    }\n",
       "\n",
       "    .dataframe tbody tr th {\n",
       "        vertical-align: top;\n",
       "    }\n",
       "\n",
       "    .dataframe thead th {\n",
       "        text-align: right;\n",
       "    }\n",
       "</style>\n",
       "<table border=\"1\" class=\"dataframe\">\n",
       "  <thead>\n",
       "    <tr style=\"text-align: right;\">\n",
       "      <th></th>\n",
       "      <th>count</th>\n",
       "      <th>unique</th>\n",
       "      <th>top</th>\n",
       "      <th>freq</th>\n",
       "      <th>mean</th>\n",
       "      <th>std</th>\n",
       "      <th>min</th>\n",
       "      <th>25%</th>\n",
       "      <th>50%</th>\n",
       "      <th>75%</th>\n",
       "      <th>max</th>\n",
       "    </tr>\n",
       "  </thead>\n",
       "  <tbody>\n",
       "    <tr>\n",
       "      <th>customerID</th>\n",
       "      <td>7043</td>\n",
       "      <td>7043</td>\n",
       "      <td>7590-VHVEG</td>\n",
       "      <td>1</td>\n",
       "      <td>NaN</td>\n",
       "      <td>NaN</td>\n",
       "      <td>NaN</td>\n",
       "      <td>NaN</td>\n",
       "      <td>NaN</td>\n",
       "      <td>NaN</td>\n",
       "      <td>NaN</td>\n",
       "    </tr>\n",
       "    <tr>\n",
       "      <th>gender</th>\n",
       "      <td>7043</td>\n",
       "      <td>2</td>\n",
       "      <td>Male</td>\n",
       "      <td>3555</td>\n",
       "      <td>NaN</td>\n",
       "      <td>NaN</td>\n",
       "      <td>NaN</td>\n",
       "      <td>NaN</td>\n",
       "      <td>NaN</td>\n",
       "      <td>NaN</td>\n",
       "      <td>NaN</td>\n",
       "    </tr>\n",
       "    <tr>\n",
       "      <th>SeniorCitizen</th>\n",
       "      <td>7043.0</td>\n",
       "      <td>2.0</td>\n",
       "      <td>0.0</td>\n",
       "      <td>5901.0</td>\n",
       "      <td>NaN</td>\n",
       "      <td>NaN</td>\n",
       "      <td>NaN</td>\n",
       "      <td>NaN</td>\n",
       "      <td>NaN</td>\n",
       "      <td>NaN</td>\n",
       "      <td>NaN</td>\n",
       "    </tr>\n",
       "    <tr>\n",
       "      <th>Partner</th>\n",
       "      <td>7043</td>\n",
       "      <td>2</td>\n",
       "      <td>No</td>\n",
       "      <td>3641</td>\n",
       "      <td>NaN</td>\n",
       "      <td>NaN</td>\n",
       "      <td>NaN</td>\n",
       "      <td>NaN</td>\n",
       "      <td>NaN</td>\n",
       "      <td>NaN</td>\n",
       "      <td>NaN</td>\n",
       "    </tr>\n",
       "    <tr>\n",
       "      <th>Dependents</th>\n",
       "      <td>7043</td>\n",
       "      <td>2</td>\n",
       "      <td>No</td>\n",
       "      <td>4933</td>\n",
       "      <td>NaN</td>\n",
       "      <td>NaN</td>\n",
       "      <td>NaN</td>\n",
       "      <td>NaN</td>\n",
       "      <td>NaN</td>\n",
       "      <td>NaN</td>\n",
       "      <td>NaN</td>\n",
       "    </tr>\n",
       "    <tr>\n",
       "      <th>tenure</th>\n",
       "      <td>7043.0</td>\n",
       "      <td>NaN</td>\n",
       "      <td>NaN</td>\n",
       "      <td>NaN</td>\n",
       "      <td>32.371149</td>\n",
       "      <td>24.559481</td>\n",
       "      <td>0.0</td>\n",
       "      <td>9.0</td>\n",
       "      <td>29.0</td>\n",
       "      <td>55.0</td>\n",
       "      <td>72.0</td>\n",
       "    </tr>\n",
       "    <tr>\n",
       "      <th>PhoneService</th>\n",
       "      <td>7043</td>\n",
       "      <td>2</td>\n",
       "      <td>Yes</td>\n",
       "      <td>6361</td>\n",
       "      <td>NaN</td>\n",
       "      <td>NaN</td>\n",
       "      <td>NaN</td>\n",
       "      <td>NaN</td>\n",
       "      <td>NaN</td>\n",
       "      <td>NaN</td>\n",
       "      <td>NaN</td>\n",
       "    </tr>\n",
       "    <tr>\n",
       "      <th>MultipleLines</th>\n",
       "      <td>7043</td>\n",
       "      <td>3</td>\n",
       "      <td>No</td>\n",
       "      <td>3390</td>\n",
       "      <td>NaN</td>\n",
       "      <td>NaN</td>\n",
       "      <td>NaN</td>\n",
       "      <td>NaN</td>\n",
       "      <td>NaN</td>\n",
       "      <td>NaN</td>\n",
       "      <td>NaN</td>\n",
       "    </tr>\n",
       "    <tr>\n",
       "      <th>InternetService</th>\n",
       "      <td>7043</td>\n",
       "      <td>3</td>\n",
       "      <td>Fiber optic</td>\n",
       "      <td>3096</td>\n",
       "      <td>NaN</td>\n",
       "      <td>NaN</td>\n",
       "      <td>NaN</td>\n",
       "      <td>NaN</td>\n",
       "      <td>NaN</td>\n",
       "      <td>NaN</td>\n",
       "      <td>NaN</td>\n",
       "    </tr>\n",
       "    <tr>\n",
       "      <th>OnlineSecurity</th>\n",
       "      <td>7043</td>\n",
       "      <td>3</td>\n",
       "      <td>No</td>\n",
       "      <td>3498</td>\n",
       "      <td>NaN</td>\n",
       "      <td>NaN</td>\n",
       "      <td>NaN</td>\n",
       "      <td>NaN</td>\n",
       "      <td>NaN</td>\n",
       "      <td>NaN</td>\n",
       "      <td>NaN</td>\n",
       "    </tr>\n",
       "    <tr>\n",
       "      <th>OnlineBackup</th>\n",
       "      <td>7043</td>\n",
       "      <td>3</td>\n",
       "      <td>No</td>\n",
       "      <td>3088</td>\n",
       "      <td>NaN</td>\n",
       "      <td>NaN</td>\n",
       "      <td>NaN</td>\n",
       "      <td>NaN</td>\n",
       "      <td>NaN</td>\n",
       "      <td>NaN</td>\n",
       "      <td>NaN</td>\n",
       "    </tr>\n",
       "    <tr>\n",
       "      <th>DeviceProtection</th>\n",
       "      <td>7043</td>\n",
       "      <td>3</td>\n",
       "      <td>No</td>\n",
       "      <td>3095</td>\n",
       "      <td>NaN</td>\n",
       "      <td>NaN</td>\n",
       "      <td>NaN</td>\n",
       "      <td>NaN</td>\n",
       "      <td>NaN</td>\n",
       "      <td>NaN</td>\n",
       "      <td>NaN</td>\n",
       "    </tr>\n",
       "    <tr>\n",
       "      <th>TechSupport</th>\n",
       "      <td>7043</td>\n",
       "      <td>3</td>\n",
       "      <td>No</td>\n",
       "      <td>3473</td>\n",
       "      <td>NaN</td>\n",
       "      <td>NaN</td>\n",
       "      <td>NaN</td>\n",
       "      <td>NaN</td>\n",
       "      <td>NaN</td>\n",
       "      <td>NaN</td>\n",
       "      <td>NaN</td>\n",
       "    </tr>\n",
       "    <tr>\n",
       "      <th>StreamingTV</th>\n",
       "      <td>7043</td>\n",
       "      <td>3</td>\n",
       "      <td>No</td>\n",
       "      <td>2810</td>\n",
       "      <td>NaN</td>\n",
       "      <td>NaN</td>\n",
       "      <td>NaN</td>\n",
       "      <td>NaN</td>\n",
       "      <td>NaN</td>\n",
       "      <td>NaN</td>\n",
       "      <td>NaN</td>\n",
       "    </tr>\n",
       "    <tr>\n",
       "      <th>StreamingMovies</th>\n",
       "      <td>7043</td>\n",
       "      <td>3</td>\n",
       "      <td>No</td>\n",
       "      <td>2785</td>\n",
       "      <td>NaN</td>\n",
       "      <td>NaN</td>\n",
       "      <td>NaN</td>\n",
       "      <td>NaN</td>\n",
       "      <td>NaN</td>\n",
       "      <td>NaN</td>\n",
       "      <td>NaN</td>\n",
       "    </tr>\n",
       "    <tr>\n",
       "      <th>Contract</th>\n",
       "      <td>7043</td>\n",
       "      <td>3</td>\n",
       "      <td>Month-to-month</td>\n",
       "      <td>3875</td>\n",
       "      <td>NaN</td>\n",
       "      <td>NaN</td>\n",
       "      <td>NaN</td>\n",
       "      <td>NaN</td>\n",
       "      <td>NaN</td>\n",
       "      <td>NaN</td>\n",
       "      <td>NaN</td>\n",
       "    </tr>\n",
       "    <tr>\n",
       "      <th>PaperlessBilling</th>\n",
       "      <td>7043</td>\n",
       "      <td>2</td>\n",
       "      <td>Yes</td>\n",
       "      <td>4171</td>\n",
       "      <td>NaN</td>\n",
       "      <td>NaN</td>\n",
       "      <td>NaN</td>\n",
       "      <td>NaN</td>\n",
       "      <td>NaN</td>\n",
       "      <td>NaN</td>\n",
       "      <td>NaN</td>\n",
       "    </tr>\n",
       "    <tr>\n",
       "      <th>PaymentMethod</th>\n",
       "      <td>7043</td>\n",
       "      <td>4</td>\n",
       "      <td>Electronic check</td>\n",
       "      <td>2365</td>\n",
       "      <td>NaN</td>\n",
       "      <td>NaN</td>\n",
       "      <td>NaN</td>\n",
       "      <td>NaN</td>\n",
       "      <td>NaN</td>\n",
       "      <td>NaN</td>\n",
       "      <td>NaN</td>\n",
       "    </tr>\n",
       "    <tr>\n",
       "      <th>MonthlyCharges</th>\n",
       "      <td>7043.0</td>\n",
       "      <td>NaN</td>\n",
       "      <td>NaN</td>\n",
       "      <td>NaN</td>\n",
       "      <td>64.761692</td>\n",
       "      <td>30.090047</td>\n",
       "      <td>18.25</td>\n",
       "      <td>35.5</td>\n",
       "      <td>70.35</td>\n",
       "      <td>89.85</td>\n",
       "      <td>118.75</td>\n",
       "    </tr>\n",
       "    <tr>\n",
       "      <th>TotalCharges</th>\n",
       "      <td>7032.0</td>\n",
       "      <td>NaN</td>\n",
       "      <td>NaN</td>\n",
       "      <td>NaN</td>\n",
       "      <td>2283.300441</td>\n",
       "      <td>2266.771362</td>\n",
       "      <td>18.8</td>\n",
       "      <td>401.45</td>\n",
       "      <td>1397.475</td>\n",
       "      <td>3794.7375</td>\n",
       "      <td>8684.8</td>\n",
       "    </tr>\n",
       "    <tr>\n",
       "      <th>Churn</th>\n",
       "      <td>7043</td>\n",
       "      <td>2</td>\n",
       "      <td>No</td>\n",
       "      <td>5174</td>\n",
       "      <td>NaN</td>\n",
       "      <td>NaN</td>\n",
       "      <td>NaN</td>\n",
       "      <td>NaN</td>\n",
       "      <td>NaN</td>\n",
       "      <td>NaN</td>\n",
       "      <td>NaN</td>\n",
       "    </tr>\n",
       "  </tbody>\n",
       "</table>\n",
       "</div>"
      ],
      "text/plain": [
       "                   count unique               top    freq         mean  \\\n",
       "customerID          7043   7043        7590-VHVEG       1          NaN   \n",
       "gender              7043      2              Male    3555          NaN   \n",
       "SeniorCitizen     7043.0    2.0               0.0  5901.0          NaN   \n",
       "Partner             7043      2                No    3641          NaN   \n",
       "Dependents          7043      2                No    4933          NaN   \n",
       "tenure            7043.0    NaN               NaN     NaN    32.371149   \n",
       "PhoneService        7043      2               Yes    6361          NaN   \n",
       "MultipleLines       7043      3                No    3390          NaN   \n",
       "InternetService     7043      3       Fiber optic    3096          NaN   \n",
       "OnlineSecurity      7043      3                No    3498          NaN   \n",
       "OnlineBackup        7043      3                No    3088          NaN   \n",
       "DeviceProtection    7043      3                No    3095          NaN   \n",
       "TechSupport         7043      3                No    3473          NaN   \n",
       "StreamingTV         7043      3                No    2810          NaN   \n",
       "StreamingMovies     7043      3                No    2785          NaN   \n",
       "Contract            7043      3    Month-to-month    3875          NaN   \n",
       "PaperlessBilling    7043      2               Yes    4171          NaN   \n",
       "PaymentMethod       7043      4  Electronic check    2365          NaN   \n",
       "MonthlyCharges    7043.0    NaN               NaN     NaN    64.761692   \n",
       "TotalCharges      7032.0    NaN               NaN     NaN  2283.300441   \n",
       "Churn               7043      2                No    5174          NaN   \n",
       "\n",
       "                          std    min     25%       50%        75%     max  \n",
       "customerID                NaN    NaN     NaN       NaN        NaN     NaN  \n",
       "gender                    NaN    NaN     NaN       NaN        NaN     NaN  \n",
       "SeniorCitizen             NaN    NaN     NaN       NaN        NaN     NaN  \n",
       "Partner                   NaN    NaN     NaN       NaN        NaN     NaN  \n",
       "Dependents                NaN    NaN     NaN       NaN        NaN     NaN  \n",
       "tenure              24.559481    0.0     9.0      29.0       55.0    72.0  \n",
       "PhoneService              NaN    NaN     NaN       NaN        NaN     NaN  \n",
       "MultipleLines             NaN    NaN     NaN       NaN        NaN     NaN  \n",
       "InternetService           NaN    NaN     NaN       NaN        NaN     NaN  \n",
       "OnlineSecurity            NaN    NaN     NaN       NaN        NaN     NaN  \n",
       "OnlineBackup              NaN    NaN     NaN       NaN        NaN     NaN  \n",
       "DeviceProtection          NaN    NaN     NaN       NaN        NaN     NaN  \n",
       "TechSupport               NaN    NaN     NaN       NaN        NaN     NaN  \n",
       "StreamingTV               NaN    NaN     NaN       NaN        NaN     NaN  \n",
       "StreamingMovies           NaN    NaN     NaN       NaN        NaN     NaN  \n",
       "Contract                  NaN    NaN     NaN       NaN        NaN     NaN  \n",
       "PaperlessBilling          NaN    NaN     NaN       NaN        NaN     NaN  \n",
       "PaymentMethod             NaN    NaN     NaN       NaN        NaN     NaN  \n",
       "MonthlyCharges      30.090047  18.25    35.5     70.35      89.85  118.75  \n",
       "TotalCharges      2266.771362   18.8  401.45  1397.475  3794.7375  8684.8  \n",
       "Churn                     NaN    NaN     NaN       NaN        NaN     NaN  "
      ]
     },
     "execution_count": 7,
     "metadata": {},
     "output_type": "execute_result"
    }
   ],
   "source": [
    "# Descriptive Statistic Summary\n",
    "\n",
    "df.describe(include= 'all').T"
   ]
  },
  {
   "cell_type": "markdown",
   "metadata": {},
   "source": [
    "mayoritas kolom adalah kolom kategorikal"
   ]
  },
  {
   "cell_type": "code",
   "execution_count": 8,
   "metadata": {},
   "outputs": [],
   "source": [
    "# function to display the distribution of numeric data\n",
    "\n",
    "def distribution(data,kolom):\n",
    "    \n",
    "    plt.figure(figsize=(16, 4))\n",
    "    # histogram\n",
    "    plt.subplot(1, 2, 1)\n",
    "    plt.hist(data[kolom], histtype='step', bins=25)  \n",
    "    plt.axvline(data[kolom].mean(), color='magenta', linestyle='dashed', linewidth=2)\n",
    "    plt.axvline(data[kolom].median(), color='green', linestyle='dashed', linewidth=2)\n",
    "\n",
    "    #boxplot\n",
    "    plt.subplot(1, 2, 2)\n",
    "    sns.boxplot(y=data[kolom])\n",
    "\n",
    "    # Show some statistic \n",
    "    print(' skewness: ' + str(data[kolom].skew()))\n",
    "    print(' kurtosis: ' + str(data[kolom].kurt()))\n",
    "    print(' Mean: ' + str(data[kolom].mean()))\n",
    "    print(' Median: ' + str(data[kolom].median()))\n",
    "    print(' Min: ' + str(data[kolom].min()))\n",
    "    print(' Max: ' + str(data[kolom].max()))\n",
    "    print('data distribution of ',kolom)\n",
    "\n",
    "    plt.show()\n",
    "\n",
    "# function to display the balance of categorical data\n",
    "\n",
    "def balance (data, kolom):\n",
    "    print('Column: ', kolom)\n",
    "    print('Number of category = ',data[kolom].nunique())\n",
    "    print( 'Jumlah masing2 value =','\\n',data[kolom].value_counts())\n",
    "    data[kolom].value_counts().plot(kind='bar',figsize=(20, 4))\n",
    "    plt.show()"
   ]
  },
  {
   "cell_type": "code",
   "execution_count": 9,
   "metadata": {},
   "outputs": [
    {
     "name": "stdout",
     "output_type": "stream",
     "text": [
      "Numerical Columns :  ['tenure', 'MonthlyCharges', 'TotalCharges']\n",
      "Categorical Columns :  ['gender', 'SeniorCitizen', 'Partner', 'Dependents', 'PhoneService', 'MultipleLines', 'InternetService', 'OnlineSecurity', 'OnlineBackup', 'DeviceProtection', 'TechSupport', 'StreamingTV', 'StreamingMovies', 'Contract', 'PaperlessBilling', 'PaymentMethod', 'Churn']\n"
     ]
    }
   ],
   "source": [
    "# Get Numerical Columns and Categorical Columns\n",
    "\n",
    "num_columns = df.select_dtypes(include=np.number).columns.tolist()\n",
    "cat_columns = df.select_dtypes(include=['object']).columns.tolist()\n",
    "cat_columns.remove('customerID') # menghilangkan kolom custumerID dari list cat_columns\n",
    "\n",
    "print('Numerical Columns : ', num_columns)\n",
    "print('Categorical Columns : ', cat_columns)"
   ]
  },
  {
   "cell_type": "markdown",
   "metadata": {},
   "source": [
    "## 4.1 Distribution of Numerical Columns"
   ]
  },
  {
   "cell_type": "code",
   "execution_count": 10,
   "metadata": {},
   "outputs": [
    {
     "name": "stdout",
     "output_type": "stream",
     "text": [
      " skewness: 0.2395397495619829\n",
      " kurtosis: -1.387371635971685\n",
      " Mean: 32.37114865824223\n",
      " Median: 29.0\n",
      " Min: 0\n",
      " Max: 72\n",
      "data distribution of  tenure\n"
     ]
    },
    {
     "data": {
      "image/png": "[encoded data removed]",
      "text/plain": [
       "<Figure size 1152x288 with 2 Axes>"
      ]
     },
     "metadata": {
      "needs_background": "light"
     },
     "output_type": "display_data"
    },
    {
     "name": "stdout",
     "output_type": "stream",
     "text": [
      "====================================================================================================\n",
      " skewness: -0.22052443394398033\n",
      " kurtosis: -1.2572596945495056\n",
      " Mean: 64.76169246059918\n",
      " Median: 70.35\n",
      " Min: 18.25\n",
      " Max: 118.75\n",
      "data distribution of  MonthlyCharges\n"
     ]
    },
    {
     "data": {
      "image/png": "[encoded data removed]",
      "text/plain": [
       "<Figure size 1152x288 with 2 Axes>"
      ]
     },
     "metadata": {
      "needs_background": "light"
     },
     "output_type": "display_data"
    },
    {
     "name": "stdout",
     "output_type": "stream",
     "text": [
      "====================================================================================================\n",
      " skewness: 0.961642499724251\n",
      " kurtosis: -0.231798760869379\n",
      " Mean: 2283.3004408418656\n",
      " Median: 1397.475\n",
      " Min: 18.8\n",
      " Max: 8684.8\n",
      "data distribution of  TotalCharges\n"
     ]
    },
    {
     "data": {
      "image/png": "[encoded data removed]",
      "text/plain": [
       "<Figure size 1152x288 with 2 Axes>"
      ]
     },
     "metadata": {
      "needs_background": "light"
     },
     "output_type": "display_data"
    },
    {
     "name": "stdout",
     "output_type": "stream",
     "text": [
      "====================================================================================================\n"
     ]
    }
   ],
   "source": [
    "# menggunakan for loop untuk menjalankan fungsi distribution\n",
    "\n",
    "for i in num_columns:\n",
    "    distribution(df,i)\n",
    "    print('='*100)"
   ]
  },
  {
   "cell_type": "markdown",
   "metadata": {},
   "source": [
    "- `tenure` and `MonthlyCharges` terdistribusi normal dan tidak memilki outliyer\n",
    "- `TotalCharges` memiliki distribusi data yang positive skewed namun tidak memiliki outliers"
   ]
  },
  {
   "cell_type": "markdown",
   "metadata": {},
   "source": [
    "## 4.2 Distribution of Categorical Columns"
   ]
  },
  {
   "cell_type": "code",
   "execution_count": 11,
   "metadata": {},
   "outputs": [
    {
     "name": "stdout",
     "output_type": "stream",
     "text": [
      "Column:  gender\n",
      "Number of category =  2\n",
      "Jumlah masing2 value = \n",
      " Male      3555\n",
      "Female    3488\n",
      "Name: gender, dtype: int64\n"
     ]
    },
    {
     "data": {
      "image/png": "[encoded data removed]",
      "text/plain": [
       "<Figure size 1440x288 with 1 Axes>"
      ]
     },
     "metadata": {
      "needs_background": "light"
     },
     "output_type": "display_data"
    },
    {
     "name": "stdout",
     "output_type": "stream",
     "text": [
      "====================================================================================================\n",
      "Column:  SeniorCitizen\n",
      "Number of category =  2\n",
      "Jumlah masing2 value = \n",
      " 0    5901\n",
      "1    1142\n",
      "Name: SeniorCitizen, dtype: int64\n"
     ]
    },
    {
     "data": {
      "image/png": "[encoded data removed]",
      "text/plain": [
       "<Figure size 1440x288 with 1 Axes>"
      ]
     },
     "metadata": {
      "needs_background": "light"
     },
     "output_type": "display_data"
    },
    {
     "name": "stdout",
     "output_type": "stream",
     "text": [
      "====================================================================================================\n",
      "Column:  Partner\n",
      "Number of category =  2\n",
      "Jumlah masing2 value = \n",
      " No     3641\n",
      "Yes    3402\n",
      "Name: Partner, dtype: int64\n"
     ]
    },
    {
     "data": {
      "image/png": "[encoded data removed]",
      "text/plain": [
       "<Figure size 1440x288 with 1 Axes>"
      ]
     },
     "metadata": {
      "needs_background": "light"
     },
     "output_type": "display_data"
    },
    {
     "name": "stdout",
     "output_type": "stream",
     "text": [
      "====================================================================================================\n",
      "Column:  Dependents\n",
      "Number of category =  2\n",
      "Jumlah masing2 value = \n",
      " No     4933\n",
      "Yes    2110\n",
      "Name: Dependents, dtype: int64\n"
     ]
    },
    {
     "data": {
      "image/png": "[encoded data removed]",
      "text/plain": [
       "<Figure size 1440x288 with 1 Axes>"
      ]
     },
     "metadata": {
      "needs_background": "light"
     },
     "output_type": "display_data"
    },
    {
     "name": "stdout",
     "output_type": "stream",
     "text": [
      "====================================================================================================\n",
      "Column:  PhoneService\n",
      "Number of category =  2\n",
      "Jumlah masing2 value = \n",
      " Yes    6361\n",
      "No      682\n",
      "Name: PhoneService, dtype: int64\n"
     ]
    },
    {
     "data": {
      "image/png": "[encoded data removed]",
      "text/plain": [
       "<Figure size 1440x288 with 1 Axes>"
      ]
     },
     "metadata": {
      "needs_background": "light"
     },
     "output_type": "display_data"
    },
    {
     "name": "stdout",
     "output_type": "stream",
     "text": [
      "====================================================================================================\n",
      "Column:  MultipleLines\n",
      "Number of category =  3\n",
      "Jumlah masing2 value = \n",
      " No                  3390\n",
      "Yes                 2971\n",
      "No phone service     682\n",
      "Name: MultipleLines, dtype: int64\n"
     ]
    },
    {
     "data": {
      "image/png": "[encoded data removed]",
      "text/plain": [
       "<Figure size 1440x288 with 1 Axes>"
      ]
     },
     "metadata": {
      "needs_background": "light"
     },
     "output_type": "display_data"
    },
    {
     "name": "stdout",
     "output_type": "stream",
     "text": [
      "====================================================================================================\n",
      "Column:  InternetService\n",
      "Number of category =  3\n",
      "Jumlah masing2 value = \n",
      " Fiber optic    3096\n",
      "DSL            2421\n",
      "No             1526\n",
      "Name: InternetService, dtype: int64\n"
     ]
    },
    {
     "data": {
      "image/png": "[encoded data removed]",
      "text/plain": [
       "<Figure size 1440x288 with 1 Axes>"
      ]
     },
     "metadata": {
      "needs_background": "light"
     },
     "output_type": "display_data"
    },
    {
     "name": "stdout",
     "output_type": "stream",
     "text": [
      "====================================================================================================\n",
      "Column:  OnlineSecurity\n",
      "Number of category =  3\n",
      "Jumlah masing2 value = \n",
      " No                     3498\n",
      "Yes                    2019\n",
      "No internet service    1526\n",
      "Name: OnlineSecurity, dtype: int64\n"
     ]
    },
    {
     "data": {
      "image/png": "[encoded data removed]",
      "text/plain": [
       "<Figure size 1440x288 with 1 Axes>"
      ]
     },
     "metadata": {
      "needs_background": "light"
     },
     "output_type": "display_data"
    },
    {
     "name": "stdout",
     "output_type": "stream",
     "text": [
      "====================================================================================================\n",
      "Column:  OnlineBackup\n",
      "Number of category =  3\n",
      "Jumlah masing2 value = \n",
      " No                     3088\n",
      "Yes                    2429\n",
      "No internet service    1526\n",
      "Name: OnlineBackup, dtype: int64\n"
     ]
    },
    {
     "data": {
      "image/png": "[encoded data removed]",
      "text/plain": [
       "<Figure size 1440x288 with 1 Axes>"
      ]
     },
     "metadata": {
      "needs_background": "light"
     },
     "output_type": "display_data"
    },
    {
     "name": "stdout",
     "output_type": "stream",
     "text": [
      "====================================================================================================\n",
      "Column:  DeviceProtection\n",
      "Number of category =  3\n",
      "Jumlah masing2 value = \n",
      " No                     3095\n",
      "Yes                    2422\n",
      "No internet service    1526\n",
      "Name: DeviceProtection, dtype: int64\n"
     ]
    },
    {
     "data": {
      "image/png": "[encoded data removed]",
      "text/plain": [
       "<Figure size 1440x288 with 1 Axes>"
      ]
     },
     "metadata": {
      "needs_background": "light"
     },
     "output_type": "display_data"
    },
    {
     "name": "stdout",
     "output_type": "stream",
     "text": [
      "====================================================================================================\n",
      "Column:  TechSupport\n",
      "Number of category =  3\n",
      "Jumlah masing2 value = \n",
      " No                     3473\n",
      "Yes                    2044\n",
      "No internet service    1526\n",
      "Name: TechSupport, dtype: int64\n"
     ]
    },
    {
     "data": {
      "image/png": "[encoded data removed]",
      "text/plain": [
       "<Figure size 1440x288 with 1 Axes>"
      ]
     },
     "metadata": {
      "needs_background": "light"
     },
     "output_type": "display_data"
    },
    {
     "name": "stdout",
     "output_type": "stream",
     "text": [
      "====================================================================================================\n",
      "Column:  StreamingTV\n",
      "Number of category =  3\n",
      "Jumlah masing2 value = \n",
      " No                     2810\n",
      "Yes                    2707\n",
      "No internet service    1526\n",
      "Name: StreamingTV, dtype: int64\n"
     ]
    },
    {
     "data": {
      "image/png": "[encoded data removed]",
      "text/plain": [
       "<Figure size 1440x288 with 1 Axes>"
      ]
     },
     "metadata": {
      "needs_background": "light"
     },
     "output_type": "display_data"
    },
    {
     "name": "stdout",
     "output_type": "stream",
     "text": [
      "====================================================================================================\n",
      "Column:  StreamingMovies\n",
      "Number of category =  3\n",
      "Jumlah masing2 value = \n",
      " No                     2785\n",
      "Yes                    2732\n",
      "No internet service    1526\n",
      "Name: StreamingMovies, dtype: int64\n"
     ]
    },
    {
     "data": {
      "image/png": "[encoded data removed]",
      "text/plain": [
       "<Figure size 1440x288 with 1 Axes>"
      ]
     },
     "metadata": {
      "needs_background": "light"
     },
     "output_type": "display_data"
    },
    {
     "name": "stdout",
     "output_type": "stream",
     "text": [
      "====================================================================================================\n",
      "Column:  Contract\n",
      "Number of category =  3\n",
      "Jumlah masing2 value = \n",
      " Month-to-month    3875\n",
      "Two year          1695\n",
      "One year          1473\n",
      "Name: Contract, dtype: int64\n"
     ]
    },
    {
     "data": {
      "image/png": "[encoded data removed]",
      "text/plain": [
       "<Figure size 1440x288 with 1 Axes>"
      ]
     },
     "metadata": {
      "needs_background": "light"
     },
     "output_type": "display_data"
    },
    {
     "name": "stdout",
     "output_type": "stream",
     "text": [
      "====================================================================================================\n",
      "Column:  PaperlessBilling\n",
      "Number of category =  2\n",
      "Jumlah masing2 value = \n",
      " Yes    4171\n",
      "No     2872\n",
      "Name: PaperlessBilling, dtype: int64\n"
     ]
    },
    {
     "data": {
      "image/png": "[encoded data removed]",
      "text/plain": [
       "<Figure size 1440x288 with 1 Axes>"
      ]
     },
     "metadata": {
      "needs_background": "light"
     },
     "output_type": "display_data"
    },
    {
     "name": "stdout",
     "output_type": "stream",
     "text": [
      "====================================================================================================\n",
      "Column:  PaymentMethod\n",
      "Number of category =  4\n",
      "Jumlah masing2 value = \n",
      " Electronic check             2365\n",
      "Mailed check                 1612\n",
      "Bank transfer (automatic)    1544\n",
      "Credit card (automatic)      1522\n",
      "Name: PaymentMethod, dtype: int64\n"
     ]
    },
    {
     "data": {
      "image/png": "[encoded data removed]",
      "text/plain": [
       "<Figure size 1440x288 with 1 Axes>"
      ]
     },
     "metadata": {
      "needs_background": "light"
     },
     "output_type": "display_data"
    },
    {
     "name": "stdout",
     "output_type": "stream",
     "text": [
      "====================================================================================================\n",
      "Column:  Churn\n",
      "Number of category =  2\n",
      "Jumlah masing2 value = \n",
      " No     5174\n",
      "Yes    1869\n",
      "Name: Churn, dtype: int64\n"
     ]
    },
    {
     "data": {
      "image/png": "[encoded data removed]",
      "text/plain": [
       "<Figure size 1440x288 with 1 Axes>"
      ]
     },
     "metadata": {
      "needs_background": "light"
     },
     "output_type": "display_data"
    },
    {
     "name": "stdout",
     "output_type": "stream",
     "text": [
      "====================================================================================================\n"
     ]
    }
   ],
   "source": [
    "# menggunakan for loop untuk menjalankan fungsi balance\n",
    "\n",
    "for i in cat_columns:\n",
    "    balance(df,i)\n",
    "    print('='*100)"
   ]
  },
  {
   "cell_type": "markdown",
   "metadata": {},
   "source": [
    "Kolom `Churn`, `SeniorCitizen`, `Contract`, `PhoneService`, `MultipleLines` bersifat imbalance. Perbandingan yes dan No dari kolom `Churn` adalah 1865/5174, hampir 1/3. Dengan demikian pada bab Data Preprocessing akan dilakukan oversampling terhadap kolom `Churn` karena kolom tersebut akan dijadikan data target."
   ]
  },
  {
   "cell_type": "markdown",
   "metadata": {},
   "source": [
    "## 4.3 Check Missing Value"
   ]
  },
  {
   "cell_type": "code",
   "execution_count": 12,
   "metadata": {},
   "outputs": [
    {
     "data": {
      "text/plain": [
       "customerID           0\n",
       "gender               0\n",
       "SeniorCitizen        0\n",
       "Partner              0\n",
       "Dependents           0\n",
       "tenure               0\n",
       "PhoneService         0\n",
       "MultipleLines        0\n",
       "InternetService      0\n",
       "OnlineSecurity       0\n",
       "OnlineBackup         0\n",
       "DeviceProtection     0\n",
       "TechSupport          0\n",
       "StreamingTV          0\n",
       "StreamingMovies      0\n",
       "Contract             0\n",
       "PaperlessBilling     0\n",
       "PaymentMethod        0\n",
       "MonthlyCharges       0\n",
       "TotalCharges        11\n",
       "Churn                0\n",
       "dtype: int64"
      ]
     },
     "execution_count": 12,
     "metadata": {},
     "output_type": "execute_result"
    }
   ],
   "source": [
    "df.isnull().sum()"
   ]
  },
  {
   "cell_type": "markdown",
   "metadata": {},
   "source": [
    "Terdapat 11 missing values `TotalCharges`"
   ]
  },
  {
   "cell_type": "markdown",
   "metadata": {},
   "source": [
    "## 4.4 Customer information "
   ]
  },
  {
   "cell_type": "markdown",
   "metadata": {},
   "source": [
    "Kolom `'gender'`, `'SeniorCitizen'`,`'Partner'` dan `'Dependents'` berisikan informasi tentang kostumer. kita akan melihat keluarnya kostumer berdasarkan informasi2 tersebut"
   ]
  },
  {
   "cell_type": "code",
   "execution_count": 13,
   "metadata": {},
   "outputs": [
    {
     "data": {
      "image/png": "[encoded data removed]",
      "text/plain": [
       "<Figure size 1800x1080 with 4 Axes>"
      ]
     },
     "metadata": {
      "needs_background": "light"
     },
     "output_type": "display_data"
    }
   ],
   "source": [
    "# membuat list  kolom informasi kostumer\n",
    "cus_info = ['gender','SeniorCitizen','Partner', 'Dependents']\n",
    "\n",
    "# membuat fig dgn 2 kolom dan 2 baris sehingga dapat diisi 4 grafik\n",
    "fig = plt.subplots(nrows = 2,ncols = 2,figsize = (25,15))\n",
    "\n",
    "# menggunakan for loop untuk membuat grafik\n",
    "for i in range(len(cus_info)):\n",
    "    plt.subplot(2,2,i+1)\n",
    "    ax = sns.countplot(cus_info[i],data = df,hue= \"Churn\")\n",
    "    title = cus_info[i] + ' vs Churn'\n",
    "    plt.title(title)"
   ]
  },
  {
   "cell_type": "markdown",
   "metadata": {},
   "source": [
    "- Terlihat bahwa tidak ada perbedaan jumlah kostumer yang keluar berdasarkan gender\n",
    "- non-SeniorCitizen cenderung untuk tidak keluar jika dibandingkan dengan SeniorCitizen\n",
    "- kostumer yang memiliki parner cenderung tidak keluar\n",
    "- kostumer tidak memiliki tanggungan lebih mudah keluar dari pada yg memiliki tanggungan"
   ]
  },
  {
   "cell_type": "markdown",
   "metadata": {},
   "source": [
    "# 5. Data Preprocessing"
   ]
  },
  {
   "cell_type": "markdown",
   "metadata": {},
   "source": [
    "## 5.1 Inference Data"
   ]
  },
  {
   "cell_type": "code",
   "execution_count": 14,
   "metadata": {},
   "outputs": [
    {
     "data": {
      "text/html": [
       "<div>\n",
       "<style scoped>\n",
       "    .dataframe tbody tr th:only-of-type {\n",
       "        vertical-align: middle;\n",
       "    }\n",
       "\n",
       "    .dataframe tbody tr th {\n",
       "        vertical-align: top;\n",
       "    }\n",
       "\n",
       "    .dataframe thead th {\n",
       "        text-align: right;\n",
       "    }\n",
       "</style>\n",
       "<table border=\"1\" class=\"dataframe\">\n",
       "  <thead>\n",
       "    <tr style=\"text-align: right;\">\n",
       "      <th></th>\n",
       "      <th>customerID</th>\n",
       "      <th>gender</th>\n",
       "      <th>SeniorCitizen</th>\n",
       "      <th>Partner</th>\n",
       "      <th>Dependents</th>\n",
       "      <th>tenure</th>\n",
       "      <th>PhoneService</th>\n",
       "      <th>MultipleLines</th>\n",
       "      <th>InternetService</th>\n",
       "      <th>OnlineSecurity</th>\n",
       "      <th>...</th>\n",
       "      <th>DeviceProtection</th>\n",
       "      <th>TechSupport</th>\n",
       "      <th>StreamingTV</th>\n",
       "      <th>StreamingMovies</th>\n",
       "      <th>Contract</th>\n",
       "      <th>PaperlessBilling</th>\n",
       "      <th>PaymentMethod</th>\n",
       "      <th>MonthlyCharges</th>\n",
       "      <th>TotalCharges</th>\n",
       "      <th>Churn</th>\n",
       "    </tr>\n",
       "  </thead>\n",
       "  <tbody>\n",
       "    <tr>\n",
       "      <th>0</th>\n",
       "      <td>7590-VHVEG</td>\n",
       "      <td>Female</td>\n",
       "      <td>0</td>\n",
       "      <td>Yes</td>\n",
       "      <td>No</td>\n",
       "      <td>1</td>\n",
       "      <td>No</td>\n",
       "      <td>No phone service</td>\n",
       "      <td>DSL</td>\n",
       "      <td>No</td>\n",
       "      <td>...</td>\n",
       "      <td>No</td>\n",
       "      <td>No</td>\n",
       "      <td>No</td>\n",
       "      <td>No</td>\n",
       "      <td>Month-to-month</td>\n",
       "      <td>Yes</td>\n",
       "      <td>Electronic check</td>\n",
       "      <td>29.85</td>\n",
       "      <td>29.85</td>\n",
       "      <td>No</td>\n",
       "    </tr>\n",
       "    <tr>\n",
       "      <th>1</th>\n",
       "      <td>5575-GNVDE</td>\n",
       "      <td>Male</td>\n",
       "      <td>0</td>\n",
       "      <td>No</td>\n",
       "      <td>No</td>\n",
       "      <td>34</td>\n",
       "      <td>Yes</td>\n",
       "      <td>No</td>\n",
       "      <td>DSL</td>\n",
       "      <td>Yes</td>\n",
       "      <td>...</td>\n",
       "      <td>Yes</td>\n",
       "      <td>No</td>\n",
       "      <td>No</td>\n",
       "      <td>No</td>\n",
       "      <td>One year</td>\n",
       "      <td>No</td>\n",
       "      <td>Mailed check</td>\n",
       "      <td>56.95</td>\n",
       "      <td>1889.50</td>\n",
       "      <td>No</td>\n",
       "    </tr>\n",
       "    <tr>\n",
       "      <th>2</th>\n",
       "      <td>3668-QPYBK</td>\n",
       "      <td>Male</td>\n",
       "      <td>0</td>\n",
       "      <td>No</td>\n",
       "      <td>No</td>\n",
       "      <td>2</td>\n",
       "      <td>Yes</td>\n",
       "      <td>No</td>\n",
       "      <td>DSL</td>\n",
       "      <td>Yes</td>\n",
       "      <td>...</td>\n",
       "      <td>No</td>\n",
       "      <td>No</td>\n",
       "      <td>No</td>\n",
       "      <td>No</td>\n",
       "      <td>Month-to-month</td>\n",
       "      <td>Yes</td>\n",
       "      <td>Mailed check</td>\n",
       "      <td>53.85</td>\n",
       "      <td>108.15</td>\n",
       "      <td>Yes</td>\n",
       "    </tr>\n",
       "    <tr>\n",
       "      <th>3</th>\n",
       "      <td>7795-CFOCW</td>\n",
       "      <td>Male</td>\n",
       "      <td>0</td>\n",
       "      <td>No</td>\n",
       "      <td>No</td>\n",
       "      <td>45</td>\n",
       "      <td>No</td>\n",
       "      <td>No phone service</td>\n",
       "      <td>DSL</td>\n",
       "      <td>Yes</td>\n",
       "      <td>...</td>\n",
       "      <td>Yes</td>\n",
       "      <td>Yes</td>\n",
       "      <td>No</td>\n",
       "      <td>No</td>\n",
       "      <td>One year</td>\n",
       "      <td>No</td>\n",
       "      <td>Bank transfer (automatic)</td>\n",
       "      <td>42.30</td>\n",
       "      <td>1840.75</td>\n",
       "      <td>No</td>\n",
       "    </tr>\n",
       "    <tr>\n",
       "      <th>4</th>\n",
       "      <td>9237-HQITU</td>\n",
       "      <td>Female</td>\n",
       "      <td>0</td>\n",
       "      <td>No</td>\n",
       "      <td>No</td>\n",
       "      <td>2</td>\n",
       "      <td>Yes</td>\n",
       "      <td>No</td>\n",
       "      <td>Fiber optic</td>\n",
       "      <td>No</td>\n",
       "      <td>...</td>\n",
       "      <td>No</td>\n",
       "      <td>No</td>\n",
       "      <td>No</td>\n",
       "      <td>No</td>\n",
       "      <td>Month-to-month</td>\n",
       "      <td>Yes</td>\n",
       "      <td>Electronic check</td>\n",
       "      <td>70.70</td>\n",
       "      <td>151.65</td>\n",
       "      <td>Yes</td>\n",
       "    </tr>\n",
       "  </tbody>\n",
       "</table>\n",
       "<p>5 rows × 21 columns</p>\n",
       "</div>"
      ],
      "text/plain": [
       "   customerID  gender SeniorCitizen Partner Dependents  tenure PhoneService  \\\n",
       "0  7590-VHVEG  Female             0     Yes         No       1           No   \n",
       "1  5575-GNVDE    Male             0      No         No      34          Yes   \n",
       "2  3668-QPYBK    Male             0      No         No       2          Yes   \n",
       "3  7795-CFOCW    Male             0      No         No      45           No   \n",
       "4  9237-HQITU  Female             0      No         No       2          Yes   \n",
       "\n",
       "      MultipleLines InternetService OnlineSecurity  ... DeviceProtection  \\\n",
       "0  No phone service             DSL             No  ...               No   \n",
       "1                No             DSL            Yes  ...              Yes   \n",
       "2                No             DSL            Yes  ...               No   \n",
       "3  No phone service             DSL            Yes  ...              Yes   \n",
       "4                No     Fiber optic             No  ...               No   \n",
       "\n",
       "  TechSupport StreamingTV StreamingMovies        Contract PaperlessBilling  \\\n",
       "0          No          No              No  Month-to-month              Yes   \n",
       "1          No          No              No        One year               No   \n",
       "2          No          No              No  Month-to-month              Yes   \n",
       "3         Yes          No              No        One year               No   \n",
       "4          No          No              No  Month-to-month              Yes   \n",
       "\n",
       "               PaymentMethod MonthlyCharges  TotalCharges  Churn  \n",
       "0           Electronic check          29.85         29.85     No  \n",
       "1               Mailed check          56.95       1889.50     No  \n",
       "2               Mailed check          53.85        108.15    Yes  \n",
       "3  Bank transfer (automatic)          42.30       1840.75     No  \n",
       "4           Electronic check          70.70        151.65    Yes  \n",
       "\n",
       "[5 rows x 21 columns]"
      ]
     },
     "execution_count": 14,
     "metadata": {},
     "output_type": "execute_result"
    }
   ],
   "source": [
    "# membuat data iinference berjumlah 10 baris\n",
    "df_inf = df.sample(n=10, random_state=75)\n",
    "df.head()"
   ]
  },
  {
   "cell_type": "code",
   "execution_count": 15,
   "metadata": {},
   "outputs": [
    {
     "data": {
      "text/html": [
       "<div>\n",
       "<style scoped>\n",
       "    .dataframe tbody tr th:only-of-type {\n",
       "        vertical-align: middle;\n",
       "    }\n",
       "\n",
       "    .dataframe tbody tr th {\n",
       "        vertical-align: top;\n",
       "    }\n",
       "\n",
       "    .dataframe thead th {\n",
       "        text-align: right;\n",
       "    }\n",
       "</style>\n",
       "<table border=\"1\" class=\"dataframe\">\n",
       "  <thead>\n",
       "    <tr style=\"text-align: right;\">\n",
       "      <th></th>\n",
       "      <th>customerID</th>\n",
       "      <th>gender</th>\n",
       "      <th>SeniorCitizen</th>\n",
       "      <th>Partner</th>\n",
       "      <th>Dependents</th>\n",
       "      <th>tenure</th>\n",
       "      <th>PhoneService</th>\n",
       "      <th>MultipleLines</th>\n",
       "      <th>InternetService</th>\n",
       "      <th>OnlineSecurity</th>\n",
       "      <th>...</th>\n",
       "      <th>DeviceProtection</th>\n",
       "      <th>TechSupport</th>\n",
       "      <th>StreamingTV</th>\n",
       "      <th>StreamingMovies</th>\n",
       "      <th>Contract</th>\n",
       "      <th>PaperlessBilling</th>\n",
       "      <th>PaymentMethod</th>\n",
       "      <th>MonthlyCharges</th>\n",
       "      <th>TotalCharges</th>\n",
       "      <th>Churn</th>\n",
       "    </tr>\n",
       "  </thead>\n",
       "  <tbody>\n",
       "    <tr>\n",
       "      <th>0</th>\n",
       "      <td>7590-VHVEG</td>\n",
       "      <td>Female</td>\n",
       "      <td>0</td>\n",
       "      <td>Yes</td>\n",
       "      <td>No</td>\n",
       "      <td>1</td>\n",
       "      <td>No</td>\n",
       "      <td>No phone service</td>\n",
       "      <td>DSL</td>\n",
       "      <td>No</td>\n",
       "      <td>...</td>\n",
       "      <td>No</td>\n",
       "      <td>No</td>\n",
       "      <td>No</td>\n",
       "      <td>No</td>\n",
       "      <td>Month-to-month</td>\n",
       "      <td>Yes</td>\n",
       "      <td>Electronic check</td>\n",
       "      <td>29.85</td>\n",
       "      <td>29.85</td>\n",
       "      <td>No</td>\n",
       "    </tr>\n",
       "    <tr>\n",
       "      <th>1</th>\n",
       "      <td>5575-GNVDE</td>\n",
       "      <td>Male</td>\n",
       "      <td>0</td>\n",
       "      <td>No</td>\n",
       "      <td>No</td>\n",
       "      <td>34</td>\n",
       "      <td>Yes</td>\n",
       "      <td>No</td>\n",
       "      <td>DSL</td>\n",
       "      <td>Yes</td>\n",
       "      <td>...</td>\n",
       "      <td>Yes</td>\n",
       "      <td>No</td>\n",
       "      <td>No</td>\n",
       "      <td>No</td>\n",
       "      <td>One year</td>\n",
       "      <td>No</td>\n",
       "      <td>Mailed check</td>\n",
       "      <td>56.95</td>\n",
       "      <td>1889.50</td>\n",
       "      <td>No</td>\n",
       "    </tr>\n",
       "    <tr>\n",
       "      <th>2</th>\n",
       "      <td>3668-QPYBK</td>\n",
       "      <td>Male</td>\n",
       "      <td>0</td>\n",
       "      <td>No</td>\n",
       "      <td>No</td>\n",
       "      <td>2</td>\n",
       "      <td>Yes</td>\n",
       "      <td>No</td>\n",
       "      <td>DSL</td>\n",
       "      <td>Yes</td>\n",
       "      <td>...</td>\n",
       "      <td>No</td>\n",
       "      <td>No</td>\n",
       "      <td>No</td>\n",
       "      <td>No</td>\n",
       "      <td>Month-to-month</td>\n",
       "      <td>Yes</td>\n",
       "      <td>Mailed check</td>\n",
       "      <td>53.85</td>\n",
       "      <td>108.15</td>\n",
       "      <td>Yes</td>\n",
       "    </tr>\n",
       "    <tr>\n",
       "      <th>3</th>\n",
       "      <td>7795-CFOCW</td>\n",
       "      <td>Male</td>\n",
       "      <td>0</td>\n",
       "      <td>No</td>\n",
       "      <td>No</td>\n",
       "      <td>45</td>\n",
       "      <td>No</td>\n",
       "      <td>No phone service</td>\n",
       "      <td>DSL</td>\n",
       "      <td>Yes</td>\n",
       "      <td>...</td>\n",
       "      <td>Yes</td>\n",
       "      <td>Yes</td>\n",
       "      <td>No</td>\n",
       "      <td>No</td>\n",
       "      <td>One year</td>\n",
       "      <td>No</td>\n",
       "      <td>Bank transfer (automatic)</td>\n",
       "      <td>42.30</td>\n",
       "      <td>1840.75</td>\n",
       "      <td>No</td>\n",
       "    </tr>\n",
       "    <tr>\n",
       "      <th>4</th>\n",
       "      <td>9237-HQITU</td>\n",
       "      <td>Female</td>\n",
       "      <td>0</td>\n",
       "      <td>No</td>\n",
       "      <td>No</td>\n",
       "      <td>2</td>\n",
       "      <td>Yes</td>\n",
       "      <td>No</td>\n",
       "      <td>Fiber optic</td>\n",
       "      <td>No</td>\n",
       "      <td>...</td>\n",
       "      <td>No</td>\n",
       "      <td>No</td>\n",
       "      <td>No</td>\n",
       "      <td>No</td>\n",
       "      <td>Month-to-month</td>\n",
       "      <td>Yes</td>\n",
       "      <td>Electronic check</td>\n",
       "      <td>70.70</td>\n",
       "      <td>151.65</td>\n",
       "      <td>Yes</td>\n",
       "    </tr>\n",
       "  </tbody>\n",
       "</table>\n",
       "<p>5 rows × 21 columns</p>\n",
       "</div>"
      ],
      "text/plain": [
       "   customerID  gender SeniorCitizen Partner Dependents  tenure PhoneService  \\\n",
       "0  7590-VHVEG  Female             0     Yes         No       1           No   \n",
       "1  5575-GNVDE    Male             0      No         No      34          Yes   \n",
       "2  3668-QPYBK    Male             0      No         No       2          Yes   \n",
       "3  7795-CFOCW    Male             0      No         No      45           No   \n",
       "4  9237-HQITU  Female             0      No         No       2          Yes   \n",
       "\n",
       "      MultipleLines InternetService OnlineSecurity  ... DeviceProtection  \\\n",
       "0  No phone service             DSL             No  ...               No   \n",
       "1                No             DSL            Yes  ...              Yes   \n",
       "2                No             DSL            Yes  ...               No   \n",
       "3  No phone service             DSL            Yes  ...              Yes   \n",
       "4                No     Fiber optic             No  ...               No   \n",
       "\n",
       "  TechSupport StreamingTV StreamingMovies        Contract PaperlessBilling  \\\n",
       "0          No          No              No  Month-to-month              Yes   \n",
       "1          No          No              No        One year               No   \n",
       "2          No          No              No  Month-to-month              Yes   \n",
       "3         Yes          No              No        One year               No   \n",
       "4          No          No              No  Month-to-month              Yes   \n",
       "\n",
       "               PaymentMethod MonthlyCharges  TotalCharges  Churn  \n",
       "0           Electronic check          29.85         29.85     No  \n",
       "1               Mailed check          56.95       1889.50     No  \n",
       "2               Mailed check          53.85        108.15    Yes  \n",
       "3  Bank transfer (automatic)          42.30       1840.75     No  \n",
       "4           Electronic check          70.70        151.65    Yes  \n",
       "\n",
       "[5 rows x 21 columns]"
      ]
     },
     "execution_count": 15,
     "metadata": {},
     "output_type": "execute_result"
    }
   ],
   "source": [
    "# memisahkan data inference dari train-test set dan mereset indexnya\n",
    "\n",
    "df_train_test= df.drop(index= df_inf.index)\n",
    "df_train_test.reset_index(drop= True, inplace= True)\n",
    "df_inf.reset_index(drop= True, inplace=True)\n",
    "\n",
    "df_train_test.head()"
   ]
  },
  {
   "cell_type": "markdown",
   "metadata": {},
   "source": [
    "## 5.2 Splitting Feature-Target\n",
    "\n",
    "\n",
    "Kolom `Churn` adalah data target"
   ]
  },
  {
   "cell_type": "code",
   "execution_count": 16,
   "metadata": {},
   "outputs": [
    {
     "name": "stdout",
     "output_type": "stream",
     "text": [
      "Train Size :  (5626, 20)\n",
      "Test Size  :  (1407, 20)\n",
      "Val Size :  (1126, 20)\n"
     ]
    }
   ],
   "source": [
    "# memebuat target dan test\n",
    "X = df_train_test.drop('Churn', axis=1)\n",
    "y = df_train_test['Churn']\n",
    "\n",
    "\n",
    "# membuat X_train, X_test, y_train, y_test\n",
    "X_train_val, X_test, y_train_val, y_test = train_test_split(X,y, test_size= 0.2, random_state= 3,stratify=y)\n",
    "\n",
    "# membuat validation set\n",
    "X_train, X_val, y_train, y_val = train_test_split(X_train_val, y_train_val, test_size=0.2, random_state=3)\n",
    "\n",
    "print('Train Size : ', X_train_val.shape)\n",
    "print('Test Size  : ', X_test.shape)\n",
    "print('Val Size : ', X_val.shape)"
   ]
  },
  {
   "cell_type": "markdown",
   "metadata": {},
   "source": [
    "## 5.3 Handling missing value"
   ]
  },
  {
   "cell_type": "code",
   "execution_count": 17,
   "metadata": {},
   "outputs": [
    {
     "data": {
      "text/plain": [
       "customerID          0\n",
       "gender              0\n",
       "SeniorCitizen       0\n",
       "Partner             0\n",
       "Dependents          0\n",
       "tenure              0\n",
       "PhoneService        0\n",
       "MultipleLines       0\n",
       "InternetService     0\n",
       "OnlineSecurity      0\n",
       "OnlineBackup        0\n",
       "DeviceProtection    0\n",
       "TechSupport         0\n",
       "StreamingTV         0\n",
       "StreamingMovies     0\n",
       "Contract            0\n",
       "PaperlessBilling    0\n",
       "PaymentMethod       0\n",
       "MonthlyCharges      0\n",
       "TotalCharges        7\n",
       "dtype: int64"
      ]
     },
     "execution_count": 17,
     "metadata": {},
     "output_type": "execute_result"
    }
   ],
   "source": [
    "# cek missing value pada data train\n",
    "X_train.isnull().sum()"
   ]
  },
  {
   "cell_type": "code",
   "execution_count": 18,
   "metadata": {},
   "outputs": [
    {
     "name": "stdout",
     "output_type": "stream",
     "text": [
      "(4493, 20)\n",
      "(4493,)\n"
     ]
    }
   ],
   "source": [
    "# Drop missing value pada train set\n",
    "X_train.dropna(inplace=True)\n",
    "y_train = y_train[X_train.index]\n",
    "\n",
    "\n",
    "print(X_train.shape)\n",
    "print(y_train.shape)"
   ]
  },
  {
   "cell_type": "code",
   "execution_count": 19,
   "metadata": {},
   "outputs": [
    {
     "data": {
      "text/plain": [
       "customerID          0\n",
       "gender              0\n",
       "SeniorCitizen       0\n",
       "Partner             0\n",
       "Dependents          0\n",
       "tenure              0\n",
       "PhoneService        0\n",
       "MultipleLines       0\n",
       "InternetService     0\n",
       "OnlineSecurity      0\n",
       "OnlineBackup        0\n",
       "DeviceProtection    0\n",
       "TechSupport         0\n",
       "StreamingTV         0\n",
       "StreamingMovies     0\n",
       "Contract            0\n",
       "PaperlessBilling    0\n",
       "PaymentMethod       0\n",
       "MonthlyCharges      0\n",
       "TotalCharges        4\n",
       "dtype: int64"
      ]
     },
     "execution_count": 19,
     "metadata": {},
     "output_type": "execute_result"
    }
   ],
   "source": [
    "# Mengecek missing value pada test\n",
    "X_test.isnull().sum()"
   ]
  },
  {
   "cell_type": "code",
   "execution_count": 20,
   "metadata": {},
   "outputs": [
    {
     "name": "stdout",
     "output_type": "stream",
     "text": [
      "(1403, 20)\n",
      "(1403,)\n"
     ]
    }
   ],
   "source": [
    "# Drop missing value pada test set\n",
    "X_test.dropna(inplace=True)\n",
    "y_test = y_test[X_test.index]\n",
    "\n",
    "\n",
    "print(X_test.shape)\n",
    "print(y_test.shape)"
   ]
  },
  {
   "cell_type": "code",
   "execution_count": 21,
   "metadata": {},
   "outputs": [
    {
     "data": {
      "text/plain": [
       "customerID          0\n",
       "gender              0\n",
       "SeniorCitizen       0\n",
       "Partner             0\n",
       "Dependents          0\n",
       "tenure              0\n",
       "PhoneService        0\n",
       "MultipleLines       0\n",
       "InternetService     0\n",
       "OnlineSecurity      0\n",
       "OnlineBackup        0\n",
       "DeviceProtection    0\n",
       "TechSupport         0\n",
       "StreamingTV         0\n",
       "StreamingMovies     0\n",
       "Contract            0\n",
       "PaperlessBilling    0\n",
       "PaymentMethod       0\n",
       "MonthlyCharges      0\n",
       "TotalCharges        0\n",
       "dtype: int64"
      ]
     },
     "execution_count": 21,
     "metadata": {},
     "output_type": "execute_result"
    }
   ],
   "source": [
    "# Mengecek missing value pada validation set\n",
    "X_val.isnull().sum()"
   ]
  },
  {
   "cell_type": "markdown",
   "metadata": {},
   "source": [
    "tidak ada missing value pada validation set"
   ]
  },
  {
   "cell_type": "markdown",
   "metadata": {},
   "source": [
    "## 5.4 Feature Selection"
   ]
  },
  {
   "cell_type": "markdown",
   "metadata": {},
   "source": [
    "Saya akan menggunakan seluruh kolom sebagai feature, kecuali kolom `customerID`. hal tersebut dilakukan karena ANN sudah memiliki mekanisme pembobotan sendiri."
   ]
  },
  {
   "cell_type": "markdown",
   "metadata": {},
   "source": [
    "## 5.5 Make numerical and categorical columns"
   ]
  },
  {
   "cell_type": "code",
   "execution_count": 22,
   "metadata": {},
   "outputs": [
    {
     "name": "stdout",
     "output_type": "stream",
     "text": [
      "Numerical Columns :  ['tenure', 'MonthlyCharges', 'TotalCharges']\n",
      "Categorical Columns :  ['gender', 'SeniorCitizen', 'Partner', 'Dependents', 'PhoneService', 'MultipleLines', 'InternetService', 'OnlineSecurity', 'OnlineBackup', 'DeviceProtection', 'TechSupport', 'StreamingTV', 'StreamingMovies', 'Contract', 'PaperlessBilling', 'PaymentMethod']\n"
     ]
    }
   ],
   "source": [
    "numeric = X_train.select_dtypes(include=np.number).columns.tolist()\n",
    "category = X_train.select_dtypes(include=['object']).columns.tolist()\n",
    "category.remove('customerID')\n",
    "\n",
    "print('Numerical Columns : ', numeric)\n",
    "print('Categorical Columns : ', category)"
   ]
  },
  {
   "cell_type": "code",
   "execution_count": 23,
   "metadata": {},
   "outputs": [
    {
     "data": {
      "text/html": [
       "<div>\n",
       "<style scoped>\n",
       "    .dataframe tbody tr th:only-of-type {\n",
       "        vertical-align: middle;\n",
       "    }\n",
       "\n",
       "    .dataframe tbody tr th {\n",
       "        vertical-align: top;\n",
       "    }\n",
       "\n",
       "    .dataframe thead th {\n",
       "        text-align: right;\n",
       "    }\n",
       "</style>\n",
       "<table border=\"1\" class=\"dataframe\">\n",
       "  <thead>\n",
       "    <tr style=\"text-align: right;\">\n",
       "      <th></th>\n",
       "      <th>gender</th>\n",
       "      <th>SeniorCitizen</th>\n",
       "      <th>Partner</th>\n",
       "      <th>Dependents</th>\n",
       "      <th>PhoneService</th>\n",
       "      <th>MultipleLines</th>\n",
       "      <th>InternetService</th>\n",
       "      <th>OnlineSecurity</th>\n",
       "      <th>OnlineBackup</th>\n",
       "      <th>DeviceProtection</th>\n",
       "      <th>TechSupport</th>\n",
       "      <th>StreamingTV</th>\n",
       "      <th>StreamingMovies</th>\n",
       "      <th>Contract</th>\n",
       "      <th>PaperlessBilling</th>\n",
       "      <th>PaymentMethod</th>\n",
       "    </tr>\n",
       "  </thead>\n",
       "  <tbody>\n",
       "    <tr>\n",
       "      <th>6180</th>\n",
       "      <td>Male</td>\n",
       "      <td>0</td>\n",
       "      <td>Yes</td>\n",
       "      <td>Yes</td>\n",
       "      <td>Yes</td>\n",
       "      <td>Yes</td>\n",
       "      <td>DSL</td>\n",
       "      <td>Yes</td>\n",
       "      <td>Yes</td>\n",
       "      <td>Yes</td>\n",
       "      <td>Yes</td>\n",
       "      <td>Yes</td>\n",
       "      <td>Yes</td>\n",
       "      <td>Two year</td>\n",
       "      <td>Yes</td>\n",
       "      <td>Credit card (automatic)</td>\n",
       "    </tr>\n",
       "    <tr>\n",
       "      <th>5462</th>\n",
       "      <td>Female</td>\n",
       "      <td>1</td>\n",
       "      <td>Yes</td>\n",
       "      <td>No</td>\n",
       "      <td>Yes</td>\n",
       "      <td>No</td>\n",
       "      <td>Fiber optic</td>\n",
       "      <td>No</td>\n",
       "      <td>Yes</td>\n",
       "      <td>Yes</td>\n",
       "      <td>No</td>\n",
       "      <td>No</td>\n",
       "      <td>Yes</td>\n",
       "      <td>Two year</td>\n",
       "      <td>No</td>\n",
       "      <td>Credit card (automatic)</td>\n",
       "    </tr>\n",
       "    <tr>\n",
       "      <th>2549</th>\n",
       "      <td>Male</td>\n",
       "      <td>1</td>\n",
       "      <td>No</td>\n",
       "      <td>No</td>\n",
       "      <td>Yes</td>\n",
       "      <td>No</td>\n",
       "      <td>No</td>\n",
       "      <td>No internet service</td>\n",
       "      <td>No internet service</td>\n",
       "      <td>No internet service</td>\n",
       "      <td>No internet service</td>\n",
       "      <td>No internet service</td>\n",
       "      <td>No internet service</td>\n",
       "      <td>Month-to-month</td>\n",
       "      <td>No</td>\n",
       "      <td>Electronic check</td>\n",
       "    </tr>\n",
       "    <tr>\n",
       "      <th>1907</th>\n",
       "      <td>Female</td>\n",
       "      <td>0</td>\n",
       "      <td>Yes</td>\n",
       "      <td>Yes</td>\n",
       "      <td>Yes</td>\n",
       "      <td>Yes</td>\n",
       "      <td>Fiber optic</td>\n",
       "      <td>Yes</td>\n",
       "      <td>Yes</td>\n",
       "      <td>Yes</td>\n",
       "      <td>Yes</td>\n",
       "      <td>Yes</td>\n",
       "      <td>No</td>\n",
       "      <td>Two year</td>\n",
       "      <td>No</td>\n",
       "      <td>Credit card (automatic)</td>\n",
       "    </tr>\n",
       "    <tr>\n",
       "      <th>5414</th>\n",
       "      <td>Male</td>\n",
       "      <td>0</td>\n",
       "      <td>Yes</td>\n",
       "      <td>Yes</td>\n",
       "      <td>Yes</td>\n",
       "      <td>No</td>\n",
       "      <td>DSL</td>\n",
       "      <td>Yes</td>\n",
       "      <td>Yes</td>\n",
       "      <td>Yes</td>\n",
       "      <td>Yes</td>\n",
       "      <td>No</td>\n",
       "      <td>No</td>\n",
       "      <td>Two year</td>\n",
       "      <td>No</td>\n",
       "      <td>Credit card (automatic)</td>\n",
       "    </tr>\n",
       "  </tbody>\n",
       "</table>\n",
       "</div>"
      ],
      "text/plain": [
       "      gender SeniorCitizen Partner Dependents PhoneService MultipleLines  \\\n",
       "6180    Male             0     Yes        Yes          Yes           Yes   \n",
       "5462  Female             1     Yes         No          Yes            No   \n",
       "2549    Male             1      No         No          Yes            No   \n",
       "1907  Female             0     Yes        Yes          Yes           Yes   \n",
       "5414    Male             0     Yes        Yes          Yes            No   \n",
       "\n",
       "     InternetService       OnlineSecurity         OnlineBackup  \\\n",
       "6180             DSL                  Yes                  Yes   \n",
       "5462     Fiber optic                   No                  Yes   \n",
       "2549              No  No internet service  No internet service   \n",
       "1907     Fiber optic                  Yes                  Yes   \n",
       "5414             DSL                  Yes                  Yes   \n",
       "\n",
       "         DeviceProtection          TechSupport          StreamingTV  \\\n",
       "6180                  Yes                  Yes                  Yes   \n",
       "5462                  Yes                   No                   No   \n",
       "2549  No internet service  No internet service  No internet service   \n",
       "1907                  Yes                  Yes                  Yes   \n",
       "5414                  Yes                  Yes                   No   \n",
       "\n",
       "          StreamingMovies        Contract PaperlessBilling  \\\n",
       "6180                  Yes        Two year              Yes   \n",
       "5462                  Yes        Two year               No   \n",
       "2549  No internet service  Month-to-month               No   \n",
       "1907                   No        Two year               No   \n",
       "5414                   No        Two year               No   \n",
       "\n",
       "                PaymentMethod  \n",
       "6180  Credit card (automatic)  \n",
       "5462  Credit card (automatic)  \n",
       "2549         Electronic check  \n",
       "1907  Credit card (automatic)  \n",
       "5414  Credit card (automatic)  "
      ]
     },
     "execution_count": 23,
     "metadata": {},
     "output_type": "execute_result"
    }
   ],
   "source": [
    "# Memisahkan masing2 set berdasarkan kolom kategori atau numerik\n",
    "\n",
    "# Train set\n",
    "X_train_num = X_train[numeric]\n",
    "X_train_cat = X_train[category]\n",
    "\n",
    "# Validation set\n",
    "X_val_num = X_val[numeric]\n",
    "X_val_cat = X_val[category]\n",
    "\n",
    "# Test Set\n",
    "X_test_num = X_test[numeric]\n",
    "X_test_cat = X_test[category]\n",
    "\n",
    "X_test_cat.head()"
   ]
  },
  {
   "cell_type": "markdown",
   "metadata": {},
   "source": [
    "## 5.6 Scaling"
   ]
  },
  {
   "cell_type": "markdown",
   "metadata": {},
   "source": [
    "Disini akan dilakukan scalling karena masing-masing kolom numerik memiliki jenis satuan yang berbeda-beda. Scaling dilakukan dengan MinMaxScaler"
   ]
  },
  {
   "cell_type": "code",
   "execution_count": 24,
   "metadata": {},
   "outputs": [
    {
     "data": {
      "text/plain": [
       "array([[0.84507042, 0.62238806, 0.55873597],\n",
       "       [0.94366197, 0.360199  , 0.42188924],\n",
       "       [0.22535211, 0.83880597, 0.19889452],\n",
       "       ...,\n",
       "       [0.6056338 , 0.35870647, 0.26520038],\n",
       "       [0.8028169 , 0.80497512, 0.65798705],\n",
       "       [0.        , 0.51243781, 0.00586783]])"
      ]
     },
     "execution_count": 24,
     "metadata": {},
     "output_type": "execute_result"
    }
   ],
   "source": [
    "scaler = MinMaxScaler()\n",
    "scaler.fit(X_train_num)\n",
    "\n",
    "X_train_num_scaled = scaler.transform(X_train_num)\n",
    "X_test_num_scaled = scaler.transform(X_test_num)\n",
    "X_val_scaled = scaler.transform(X_val_num)\n",
    "\n",
    "X_train_num_scaled"
   ]
  },
  {
   "cell_type": "markdown",
   "metadata": {},
   "source": [
    "## 5.7 Encoding"
   ]
  },
  {
   "cell_type": "markdown",
   "metadata": {},
   "source": [
    "Selanjutnya dilakukan encoding. metode yang dipilih adalah `one hot encoding` karena semua katergori yang ada bersifat non-ordinal"
   ]
  },
  {
   "cell_type": "code",
   "execution_count": 25,
   "metadata": {},
   "outputs": [
    {
     "data": {
      "text/plain": [
       "array([[1., 0., 1., ..., 2., 1., 0.],\n",
       "       [0., 0., 0., ..., 1., 1., 1.],\n",
       "       [1., 0., 1., ..., 0., 1., 2.],\n",
       "       ...,\n",
       "       [1., 0., 1., ..., 1., 1., 2.],\n",
       "       [1., 0., 0., ..., 1., 0., 0.],\n",
       "       [1., 1., 0., ..., 0., 1., 2.]])"
      ]
     },
     "execution_count": 25,
     "metadata": {},
     "output_type": "execute_result"
    }
   ],
   "source": [
    "encoder = OrdinalEncoder()\n",
    "\n",
    "X_train_cat_encoded = encoder.fit_transform(X_train_cat)\n",
    "X_test_cat_encoded = encoder.transform(X_test_cat)\n",
    "X_val_cat_encoded =encoder.transform(X_val_cat)\n",
    "\n",
    "X_train_cat_encoded"
   ]
  },
  {
   "cell_type": "code",
   "execution_count": 26,
   "metadata": {},
   "outputs": [
    {
     "data": {
      "text/plain": [
       "array([[0.84507042, 0.62238806, 0.55873597, ..., 2.        , 1.        ,\n",
       "        0.        ],\n",
       "       [0.94366197, 0.360199  , 0.42188924, ..., 1.        , 1.        ,\n",
       "        1.        ],\n",
       "       [0.22535211, 0.83880597, 0.19889452, ..., 0.        , 1.        ,\n",
       "        2.        ],\n",
       "       ...,\n",
       "       [0.6056338 , 0.35870647, 0.26520038, ..., 1.        , 1.        ,\n",
       "        2.        ],\n",
       "       [0.8028169 , 0.80497512, 0.65798705, ..., 1.        , 0.        ,\n",
       "        0.        ],\n",
       "       [0.        , 0.51243781, 0.00586783, ..., 0.        , 1.        ,\n",
       "        2.        ]])"
      ]
     },
     "execution_count": 26,
     "metadata": {},
     "output_type": "execute_result"
    }
   ],
   "source": [
    "# menggabungkan kembali kolom numerik dan kategorik\n",
    "\n",
    "X_train_final = np.concatenate([X_train_num_scaled, X_train_cat_encoded], axis=1)\n",
    "X_test_final = np.concatenate([X_test_num_scaled, X_test_cat_encoded], axis=1)\n",
    "X_val_final = np.concatenate([X_val_scaled , X_val_cat_encoded],axis=1)\n",
    "\n",
    "X_train_final"
   ]
  },
  {
   "cell_type": "code",
   "execution_count": 27,
   "metadata": {},
   "outputs": [
    {
     "data": {
      "text/plain": [
       "array([0, 1], dtype=int64)"
      ]
     },
     "execution_count": 27,
     "metadata": {},
     "output_type": "execute_result"
    }
   ],
   "source": [
    "# Mengubah value Yes dan No pada data target menjadi 1 dan 1\n",
    "\n",
    "y_train = y_train.replace(['Yes','No'],[1,0])\n",
    "y_val = y_val.replace(['Yes','No'],[1,0])\n",
    "y_test = y_test.replace(['Yes','No'],[1,0])\n",
    "\n",
    "y_val.unique()"
   ]
  },
  {
   "cell_type": "markdown",
   "metadata": {},
   "source": [
    "## 5.8 Handling imbalance data target"
   ]
  },
  {
   "cell_type": "markdown",
   "metadata": {},
   "source": [
    "Sebagaimana yang telah dijelaskan pada bab EDA, data target bersifat imbalance. hal tersebut dapat membuat model lebih cenderung untuk menghasilkan prediksi ke salah satu kategori karena model lebih banyak belajar tentang salah satu kategori saja. Sehingga di sini akan dilakukan `oversampling dengan SMOTE`. Secara sederhana, cara kerjanya adalah dengan menambahkan data dengan ked alam dataset sedemikian rupa sehingga kolom `Churn` memiliki jumlah value `Yes` dan `No` yang sama"
   ]
  },
  {
   "cell_type": "code",
   "execution_count": 28,
   "metadata": {},
   "outputs": [
    {
     "data": {
      "text/plain": [
       "0    3302\n",
       "1    1191\n",
       "Name: Churn, dtype: int64"
      ]
     },
     "execution_count": 28,
     "metadata": {},
     "output_type": "execute_result"
    }
   ],
   "source": [
    "# melihat perbandingan jumlah masing2 kategori\n",
    "y_train.value_counts()"
   ]
  },
  {
   "cell_type": "code",
   "execution_count": 29,
   "metadata": {},
   "outputs": [
    {
     "data": {
      "text/plain": [
       "(4493,)"
      ]
     },
     "execution_count": 29,
     "metadata": {},
     "output_type": "execute_result"
    }
   ],
   "source": [
    "# Melihat ukuran data target\n",
    "y_train.shape"
   ]
  },
  {
   "cell_type": "code",
   "execution_count": 30,
   "metadata": {},
   "outputs": [
    {
     "name": "stdout",
     "output_type": "stream",
     "text": [
      "0    3302\n",
      "1    3302\n",
      "Name: Churn, dtype: int64\n",
      "y_train_res shape =  (6604,)\n"
     ]
    }
   ],
   "source": [
    "# Melakukan oversampling dengan SMOTE\n",
    "\n",
    "sm = SMOTE(sampling_strategy='auto', k_neighbors=8, random_state=4)\n",
    "X_train_res, y_train_res = sm.fit_resample(X_train_final, y_train)\n",
    "\n",
    "print(y_train_res.value_counts())\n",
    "print('y_train_res shape = ',y_train_res.shape)"
   ]
  },
  {
   "cell_type": "markdown",
   "metadata": {},
   "source": [
    "Sekarang jumlah kategori `Yes` dan `No` pada data target sudah sama"
   ]
  },
  {
   "cell_type": "markdown",
   "metadata": {},
   "source": [
    "## 5.9 Pipeline"
   ]
  },
  {
   "cell_type": "code",
   "execution_count": 31,
   "metadata": {},
   "outputs": [],
   "source": [
    "# Membuat data train set dengan tensor slice\n",
    "df_train = tf.data.Dataset.from_tensor_slices((X_train_res, y_train_res))\n",
    "\n",
    "# meng-suffle data train set\n",
    "df_train_shuffle = df_train.shuffle(buffer_size=1024).batch(64)\n",
    "\n",
    "## melakukan hal yang sama untuk test set namun tidak perlu di-suffle\n",
    "df_test = tf.data.Dataset.from_tensor_slices((X_test_final, y_test))\n",
    "df_test = df_test.batch(64)"
   ]
  },
  {
   "cell_type": "markdown",
   "metadata": {},
   "source": [
    "# 6. Model Definition"
   ]
  },
  {
   "cell_type": "markdown",
   "metadata": {},
   "source": [
    "Pada tahap ini akan dilakukan pendefinisian model dengan ANN. Di sini akan dilakukan dengan Sequential API dan Functional API.\n",
    "\n",
    " **`Metric yang dipilih adalah Recall`** karena kita berusaha membuat model yang sebisa mungkin tidak akan menghasilkan False Negative dimana model memprediksi bahwa seorang kostumer tidak akan keluar (`Churn`= No) padahal sebenarnya dia akan keluar (`Churn`=yes)"
   ]
  },
  {
   "cell_type": "markdown",
   "metadata": {},
   "source": [
    "## 6.1 Sequential"
   ]
  },
  {
   "cell_type": "markdown",
   "metadata": {},
   "source": [
    "Mendefinisikan model dengan sequential API. model memiliki 2 layer dengan masing2 memiliki 10 dan 8 node. kemudian diakhiri dengan 1 node untuk output layer. Untuk hidden layer digunakan ReLu activation function dan sigmoid untuk output layer "
   ]
  },
  {
   "cell_type": "code",
   "execution_count": 32,
   "metadata": {},
   "outputs": [
    {
     "name": "stdout",
     "output_type": "stream",
     "text": [
      "Model: \"sequential\"\n",
      "_________________________________________________________________\n",
      " Layer (type)                Output Shape              Param #   \n",
      "=================================================================\n",
      " dense (Dense)               (None, 10)                200       \n",
      "                                                                 \n",
      " dense_1 (Dense)             (None, 8)                 88        \n",
      "                                                                 \n",
      " dense_2 (Dense)             (None, 1)                 9         \n",
      "                                                                 \n",
      "=================================================================\n",
      "Total params: 297\n",
      "Trainable params: 297\n",
      "Non-trainable params: 0\n",
      "_________________________________________________________________\n"
     ]
    }
   ],
   "source": [
    "model_sequential = Sequential()\n",
    "model_sequential.add(Dense(10, activation='relu', input_shape=(19,))) # Hidden Layer 1\n",
    "model_sequential.add(Dense(8, activation='relu', input_shape=(19,))) # Hidden Layer 2\n",
    "model_sequential.add(Dense(1, activation='sigmoid'))  # Output Layer\n",
    "\n",
    "# Compile\n",
    "model_sequential.compile(loss='binary_crossentropy',\n",
    "                         optimizer='Adam',\n",
    "                         metrics=['Recall'])\n",
    "\n",
    "model_sequential.summary()"
   ]
  },
  {
   "cell_type": "markdown",
   "metadata": {},
   "source": [
    "## 6.2 Functional"
   ]
  },
  {
   "cell_type": "markdown",
   "metadata": {},
   "source": [
    "Mendefinisikan model dengan functional API. model memiliki 2 layer dengan masing2 memiliki 10 dan 8 node. kemudian diakhiri dengan 1 node untuk output layer. Untuk hidden layer digunakan ReLu activation function dan sigmoid untuk output layer"
   ]
  },
  {
   "cell_type": "code",
   "execution_count": 33,
   "metadata": {},
   "outputs": [
    {
     "name": "stdout",
     "output_type": "stream",
     "text": [
      "Model: \"model\"\n",
      "_________________________________________________________________\n",
      " Layer (type)                Output Shape              Param #   \n",
      "=================================================================\n",
      " input_1 (InputLayer)        [(None, 19)]              0         \n",
      "                                                                 \n",
      " dense_3 (Dense)             (None, 10)                200       \n",
      "                                                                 \n",
      " dense_4 (Dense)             (None, 8)                 88        \n",
      "                                                                 \n",
      " dense_5 (Dense)             (None, 1)                 9         \n",
      "                                                                 \n",
      "=================================================================\n",
      "Total params: 297\n",
      "Trainable params: 297\n",
      "Non-trainable params: 0\n",
      "_________________________________________________________________\n"
     ]
    }
   ],
   "source": [
    "input_layer = Input(shape=(19,))\n",
    "hidden_layer_1 = Dense(10, activation='relu')(input_layer)\n",
    "hidden_layer_2 = Dense(8, activation='relu')(hidden_layer_1)\n",
    "output_layer = Dense(1, activation='sigmoid')(hidden_layer_2)\n",
    "\n",
    "model_functional = Model(inputs=input_layer, outputs=output_layer)\n",
    "\n",
    "# Model Compile\n",
    "model_functional.compile(loss='binary_crossentropy', \n",
    "                         optimizer='Adam',\n",
    "                         metrics=['Recall'])\n",
    "\n",
    "model_functional.summary()"
   ]
  },
  {
   "cell_type": "markdown",
   "metadata": {},
   "source": [
    "# 7. Model Training"
   ]
  },
  {
   "cell_type": "markdown",
   "metadata": {},
   "source": [
    "## 7.1 Sequential"
   ]
  },
  {
   "cell_type": "code",
   "execution_count": 34,
   "metadata": {},
   "outputs": [
    {
     "name": "stdout",
     "output_type": "stream",
     "text": [
      "Epoch 1/50\n",
      "104/104 [==============================] - 1s 3ms/step - loss: 0.6907 - recall: 0.6463 - val_loss: 0.8007 - val_recall: 0.9868\n",
      "Epoch 2/50\n",
      "104/104 [==============================] - 0s 2ms/step - loss: 0.6691 - recall: 0.7244 - val_loss: 0.7780 - val_recall: 0.9768\n",
      "Epoch 3/50\n",
      "104/104 [==============================] - 0s 2ms/step - loss: 0.6426 - recall: 0.7368 - val_loss: 0.7791 - val_recall: 0.9636\n",
      "Epoch 4/50\n",
      "104/104 [==============================] - 0s 2ms/step - loss: 0.6179 - recall: 0.7326 - val_loss: 0.7656 - val_recall: 0.9371\n",
      "Epoch 5/50\n",
      "104/104 [==============================] - 0s 2ms/step - loss: 0.5941 - recall: 0.7283 - val_loss: 0.7504 - val_recall: 0.9106\n",
      "Epoch 6/50\n",
      "104/104 [==============================] - 0s 2ms/step - loss: 0.5763 - recall: 0.7311 - val_loss: 0.7305 - val_recall: 0.9040\n",
      "Epoch 7/50\n",
      "104/104 [==============================] - 0s 2ms/step - loss: 0.5602 - recall: 0.7368 - val_loss: 0.7159 - val_recall: 0.9007\n",
      "Epoch 8/50\n",
      "104/104 [==============================] - 0s 2ms/step - loss: 0.5552 - recall: 0.7338 - val_loss: 0.6911 - val_recall: 0.8808\n",
      "Epoch 9/50\n",
      "104/104 [==============================] - 0s 2ms/step - loss: 0.5480 - recall: 0.7392 - val_loss: 0.6702 - val_recall: 0.8609\n",
      "Epoch 10/50\n",
      "104/104 [==============================] - 0s 2ms/step - loss: 0.5431 - recall: 0.7441 - val_loss: 0.6654 - val_recall: 0.8543\n",
      "Epoch 11/50\n",
      "104/104 [==============================] - 0s 2ms/step - loss: 0.5415 - recall: 0.7498 - val_loss: 0.6526 - val_recall: 0.8510\n",
      "Epoch 12/50\n",
      "104/104 [==============================] - 0s 2ms/step - loss: 0.5369 - recall: 0.7502 - val_loss: 0.6392 - val_recall: 0.8444\n",
      "Epoch 13/50\n",
      "104/104 [==============================] - 0s 2ms/step - loss: 0.5330 - recall: 0.7535 - val_loss: 0.6362 - val_recall: 0.8411\n",
      "Epoch 14/50\n",
      "104/104 [==============================] - 0s 2ms/step - loss: 0.5316 - recall: 0.7629 - val_loss: 0.6259 - val_recall: 0.8344\n",
      "Epoch 15/50\n",
      "104/104 [==============================] - 0s 2ms/step - loss: 0.5265 - recall: 0.7656 - val_loss: 0.6215 - val_recall: 0.8311\n",
      "Epoch 16/50\n",
      "104/104 [==============================] - 0s 2ms/step - loss: 0.5250 - recall: 0.7623 - val_loss: 0.6178 - val_recall: 0.8278\n",
      "Epoch 17/50\n",
      "104/104 [==============================] - 0s 2ms/step - loss: 0.5231 - recall: 0.7680 - val_loss: 0.6108 - val_recall: 0.8212\n",
      "Epoch 18/50\n",
      "104/104 [==============================] - 0s 2ms/step - loss: 0.5211 - recall: 0.7704 - val_loss: 0.6080 - val_recall: 0.8245\n",
      "Epoch 19/50\n",
      "104/104 [==============================] - 0s 2ms/step - loss: 0.5194 - recall: 0.7768 - val_loss: 0.6052 - val_recall: 0.8278\n",
      "Epoch 20/50\n",
      "104/104 [==============================] - 0s 2ms/step - loss: 0.5157 - recall: 0.7804 - val_loss: 0.6091 - val_recall: 0.8377\n",
      "Epoch 21/50\n",
      "104/104 [==============================] - 0s 2ms/step - loss: 0.5154 - recall: 0.7823 - val_loss: 0.5999 - val_recall: 0.8344\n",
      "Epoch 22/50\n",
      "104/104 [==============================] - 0s 2ms/step - loss: 0.5118 - recall: 0.7816 - val_loss: 0.5999 - val_recall: 0.8344\n",
      "Epoch 23/50\n",
      "104/104 [==============================] - 0s 2ms/step - loss: 0.5136 - recall: 0.7832 - val_loss: 0.5981 - val_recall: 0.8311\n",
      "Epoch 24/50\n",
      "104/104 [==============================] - 0s 2ms/step - loss: 0.5096 - recall: 0.7880 - val_loss: 0.5923 - val_recall: 0.8179\n",
      "Epoch 25/50\n",
      "104/104 [==============================] - 0s 2ms/step - loss: 0.5097 - recall: 0.7810 - val_loss: 0.5910 - val_recall: 0.8179\n",
      "Epoch 26/50\n",
      "104/104 [==============================] - 0s 2ms/step - loss: 0.5080 - recall: 0.7820 - val_loss: 0.5887 - val_recall: 0.8179\n",
      "Epoch 27/50\n",
      "104/104 [==============================] - 0s 2ms/step - loss: 0.5057 - recall: 0.7892 - val_loss: 0.5908 - val_recall: 0.8179\n",
      "Epoch 28/50\n",
      "104/104 [==============================] - 0s 2ms/step - loss: 0.5053 - recall: 0.7901 - val_loss: 0.5872 - val_recall: 0.8212\n",
      "Epoch 29/50\n",
      "104/104 [==============================] - 0s 2ms/step - loss: 0.5030 - recall: 0.7895 - val_loss: 0.5867 - val_recall: 0.8212\n",
      "Epoch 30/50\n",
      "104/104 [==============================] - 0s 2ms/step - loss: 0.5029 - recall: 0.7950 - val_loss: 0.5865 - val_recall: 0.8212\n",
      "Epoch 31/50\n",
      "104/104 [==============================] - 0s 2ms/step - loss: 0.5012 - recall: 0.7947 - val_loss: 0.5847 - val_recall: 0.8212\n",
      "Epoch 32/50\n",
      "104/104 [==============================] - 0s 2ms/step - loss: 0.5004 - recall: 0.7944 - val_loss: 0.5857 - val_recall: 0.8212\n",
      "Epoch 33/50\n",
      "104/104 [==============================] - 0s 2ms/step - loss: 0.5002 - recall: 0.7929 - val_loss: 0.5881 - val_recall: 0.8212\n",
      "Epoch 34/50\n",
      "104/104 [==============================] - 0s 2ms/step - loss: 0.4990 - recall: 0.7932 - val_loss: 0.5842 - val_recall: 0.8212\n",
      "Epoch 35/50\n",
      "104/104 [==============================] - 0s 2ms/step - loss: 0.4970 - recall: 0.7919 - val_loss: 0.5836 - val_recall: 0.8179\n",
      "Epoch 36/50\n",
      "104/104 [==============================] - 0s 2ms/step - loss: 0.4965 - recall: 0.7898 - val_loss: 0.5857 - val_recall: 0.8212\n",
      "Epoch 37/50\n",
      "104/104 [==============================] - 0s 2ms/step - loss: 0.4964 - recall: 0.7968 - val_loss: 0.5814 - val_recall: 0.8179\n",
      "Epoch 38/50\n",
      "104/104 [==============================] - 0s 2ms/step - loss: 0.4941 - recall: 0.7944 - val_loss: 0.5851 - val_recall: 0.8212\n",
      "Epoch 39/50\n",
      "104/104 [==============================] - 0s 2ms/step - loss: 0.4951 - recall: 0.7932 - val_loss: 0.5862 - val_recall: 0.8278\n",
      "Epoch 40/50\n",
      "104/104 [==============================] - 0s 2ms/step - loss: 0.4936 - recall: 0.7935 - val_loss: 0.5816 - val_recall: 0.8212\n",
      "Epoch 41/50\n",
      "104/104 [==============================] - 0s 2ms/step - loss: 0.4920 - recall: 0.7868 - val_loss: 0.5831 - val_recall: 0.8311\n",
      "Epoch 42/50\n",
      "104/104 [==============================] - 0s 2ms/step - loss: 0.4925 - recall: 0.7992 - val_loss: 0.5813 - val_recall: 0.8245\n",
      "Epoch 43/50\n",
      "104/104 [==============================] - 0s 2ms/step - loss: 0.4917 - recall: 0.7947 - val_loss: 0.5818 - val_recall: 0.8146\n",
      "Epoch 44/50\n",
      "104/104 [==============================] - 0s 2ms/step - loss: 0.4910 - recall: 0.7995 - val_loss: 0.5838 - val_recall: 0.8212\n",
      "Epoch 45/50\n",
      "104/104 [==============================] - 0s 2ms/step - loss: 0.4904 - recall: 0.7950 - val_loss: 0.5796 - val_recall: 0.8079\n",
      "Epoch 46/50\n",
      "104/104 [==============================] - 0s 2ms/step - loss: 0.4902 - recall: 0.7907 - val_loss: 0.5813 - val_recall: 0.8179\n",
      "Epoch 47/50\n",
      "104/104 [==============================] - 0s 2ms/step - loss: 0.4893 - recall: 0.7992 - val_loss: 0.5796 - val_recall: 0.8113\n",
      "Epoch 48/50\n",
      "104/104 [==============================] - 0s 2ms/step - loss: 0.4879 - recall: 0.7977 - val_loss: 0.5785 - val_recall: 0.8079\n",
      "Epoch 49/50\n",
      "104/104 [==============================] - 0s 2ms/step - loss: 0.4871 - recall: 0.7986 - val_loss: 0.5762 - val_recall: 0.8046\n",
      "Epoch 50/50\n",
      "104/104 [==============================] - 0s 2ms/step - loss: 0.4874 - recall: 0.7965 - val_loss: 0.5777 - val_recall: 0.8046\n",
      "CPU times: total: 11.2 s\n",
      "Wall time: 10.5 s\n"
     ]
    }
   ],
   "source": [
    "%%time\n",
    "## Train the Model\n",
    "\n",
    "history_seq = model_sequential.fit(df_train_shuffle, validation_data=(X_val_final, y_val),epochs=50)"
   ]
  },
  {
   "cell_type": "markdown",
   "metadata": {},
   "source": [
    "## 7.2 Functional"
   ]
  },
  {
   "cell_type": "code",
   "execution_count": 35,
   "metadata": {},
   "outputs": [
    {
     "name": "stdout",
     "output_type": "stream",
     "text": [
      "Epoch 1/50\n",
      "104/104 [==============================] - 1s 3ms/step - loss: 0.7759 - recall: 0.1560 - val_loss: 0.7513 - val_recall: 0.5199\n",
      "Epoch 2/50\n",
      "104/104 [==============================] - 0s 1ms/step - loss: 0.7043 - recall: 0.2698 - val_loss: 0.6782 - val_recall: 0.6424\n",
      "Epoch 3/50\n",
      "104/104 [==============================] - 0s 2ms/step - loss: 0.6589 - recall: 0.4088 - val_loss: 0.6533 - val_recall: 0.8013\n",
      "Epoch 4/50\n",
      "104/104 [==============================] - 0s 1ms/step - loss: 0.6276 - recall: 0.5775 - val_loss: 0.6355 - val_recall: 0.8543\n",
      "Epoch 5/50\n",
      "104/104 [==============================] - 0s 2ms/step - loss: 0.5971 - recall: 0.6844 - val_loss: 0.6356 - val_recall: 0.8808\n",
      "Epoch 6/50\n",
      "104/104 [==============================] - 0s 1ms/step - loss: 0.5743 - recall: 0.7435 - val_loss: 0.6457 - val_recall: 0.9106\n",
      "Epoch 7/50\n",
      "104/104 [==============================] - 0s 2ms/step - loss: 0.5600 - recall: 0.7756 - val_loss: 0.6379 - val_recall: 0.9205\n",
      "Epoch 8/50\n",
      "104/104 [==============================] - 0s 2ms/step - loss: 0.5455 - recall: 0.7913 - val_loss: 0.6406 - val_recall: 0.9305\n",
      "Epoch 9/50\n",
      "104/104 [==============================] - 0s 2ms/step - loss: 0.5410 - recall: 0.8074 - val_loss: 0.6348 - val_recall: 0.9238\n",
      "Epoch 10/50\n",
      "104/104 [==============================] - 0s 2ms/step - loss: 0.5340 - recall: 0.8141 - val_loss: 0.6264 - val_recall: 0.9172\n",
      "Epoch 11/50\n",
      "104/104 [==============================] - 0s 2ms/step - loss: 0.5306 - recall: 0.8156 - val_loss: 0.6246 - val_recall: 0.9139\n",
      "Epoch 12/50\n",
      "104/104 [==============================] - 0s 2ms/step - loss: 0.5247 - recall: 0.8086 - val_loss: 0.6175 - val_recall: 0.9073\n",
      "Epoch 13/50\n",
      "104/104 [==============================] - 0s 2ms/step - loss: 0.5213 - recall: 0.8216 - val_loss: 0.6108 - val_recall: 0.9007\n",
      "Epoch 14/50\n",
      "104/104 [==============================] - 0s 2ms/step - loss: 0.5207 - recall: 0.8141 - val_loss: 0.6074 - val_recall: 0.8940\n",
      "Epoch 15/50\n",
      "104/104 [==============================] - 0s 2ms/step - loss: 0.5177 - recall: 0.8147 - val_loss: 0.6082 - val_recall: 0.8940\n",
      "Epoch 16/50\n",
      "104/104 [==============================] - 0s 2ms/step - loss: 0.5136 - recall: 0.8125 - val_loss: 0.6049 - val_recall: 0.8775\n",
      "Epoch 17/50\n",
      "104/104 [==============================] - 0s 2ms/step - loss: 0.5118 - recall: 0.8141 - val_loss: 0.6001 - val_recall: 0.8709\n",
      "Epoch 18/50\n",
      "104/104 [==============================] - 0s 1ms/step - loss: 0.5108 - recall: 0.8137 - val_loss: 0.5998 - val_recall: 0.8775\n",
      "Epoch 19/50\n",
      "104/104 [==============================] - 0s 2ms/step - loss: 0.5093 - recall: 0.8162 - val_loss: 0.5928 - val_recall: 0.8709\n",
      "Epoch 20/50\n",
      "104/104 [==============================] - 0s 2ms/step - loss: 0.5044 - recall: 0.8144 - val_loss: 0.5973 - val_recall: 0.8709\n",
      "Epoch 21/50\n",
      "104/104 [==============================] - 0s 2ms/step - loss: 0.5044 - recall: 0.8180 - val_loss: 0.5934 - val_recall: 0.8675\n",
      "Epoch 22/50\n",
      "104/104 [==============================] - 0s 2ms/step - loss: 0.5020 - recall: 0.8119 - val_loss: 0.5940 - val_recall: 0.8642\n",
      "Epoch 23/50\n",
      "104/104 [==============================] - 0s 2ms/step - loss: 0.5013 - recall: 0.8128 - val_loss: 0.5883 - val_recall: 0.8444\n",
      "Epoch 24/50\n",
      "104/104 [==============================] - 0s 2ms/step - loss: 0.4990 - recall: 0.8107 - val_loss: 0.5900 - val_recall: 0.8444\n",
      "Epoch 25/50\n",
      "104/104 [==============================] - 0s 2ms/step - loss: 0.4983 - recall: 0.8201 - val_loss: 0.5909 - val_recall: 0.8477\n",
      "Epoch 26/50\n",
      "104/104 [==============================] - 0s 1ms/step - loss: 0.4961 - recall: 0.8153 - val_loss: 0.5871 - val_recall: 0.8411\n",
      "Epoch 27/50\n",
      "104/104 [==============================] - 0s 2ms/step - loss: 0.4946 - recall: 0.8153 - val_loss: 0.5938 - val_recall: 0.8543\n",
      "Epoch 28/50\n",
      "104/104 [==============================] - 0s 2ms/step - loss: 0.4955 - recall: 0.8171 - val_loss: 0.5836 - val_recall: 0.8311\n",
      "Epoch 29/50\n",
      "104/104 [==============================] - 0s 2ms/step - loss: 0.4917 - recall: 0.8201 - val_loss: 0.5842 - val_recall: 0.8311\n",
      "Epoch 30/50\n",
      "104/104 [==============================] - 0s 2ms/step - loss: 0.4896 - recall: 0.8162 - val_loss: 0.5845 - val_recall: 0.8311\n",
      "Epoch 31/50\n",
      "104/104 [==============================] - 0s 2ms/step - loss: 0.4900 - recall: 0.8153 - val_loss: 0.5826 - val_recall: 0.8311\n",
      "Epoch 32/50\n",
      "104/104 [==============================] - 0s 2ms/step - loss: 0.4888 - recall: 0.8144 - val_loss: 0.5841 - val_recall: 0.8278\n",
      "Epoch 33/50\n",
      "104/104 [==============================] - 0s 2ms/step - loss: 0.4868 - recall: 0.8071 - val_loss: 0.5861 - val_recall: 0.8278\n",
      "Epoch 34/50\n",
      "104/104 [==============================] - 0s 2ms/step - loss: 0.4873 - recall: 0.8128 - val_loss: 0.5790 - val_recall: 0.8245\n",
      "Epoch 35/50\n",
      "104/104 [==============================] - 0s 2ms/step - loss: 0.4866 - recall: 0.8153 - val_loss: 0.5828 - val_recall: 0.8311\n",
      "Epoch 36/50\n",
      "104/104 [==============================] - 0s 2ms/step - loss: 0.4857 - recall: 0.8186 - val_loss: 0.5794 - val_recall: 0.8311\n",
      "Epoch 37/50\n",
      "104/104 [==============================] - 0s 2ms/step - loss: 0.4852 - recall: 0.8144 - val_loss: 0.5817 - val_recall: 0.8311\n",
      "Epoch 38/50\n",
      "104/104 [==============================] - 0s 2ms/step - loss: 0.4833 - recall: 0.8128 - val_loss: 0.5784 - val_recall: 0.8344\n",
      "Epoch 39/50\n",
      "104/104 [==============================] - 0s 2ms/step - loss: 0.4817 - recall: 0.8153 - val_loss: 0.5807 - val_recall: 0.8377\n",
      "Epoch 40/50\n",
      "104/104 [==============================] - 0s 2ms/step - loss: 0.4819 - recall: 0.8168 - val_loss: 0.5809 - val_recall: 0.8411\n",
      "Epoch 41/50\n",
      "104/104 [==============================] - 0s 1ms/step - loss: 0.4822 - recall: 0.8113 - val_loss: 0.5780 - val_recall: 0.8377\n",
      "Epoch 42/50\n",
      "104/104 [==============================] - 0s 2ms/step - loss: 0.4807 - recall: 0.8141 - val_loss: 0.5824 - val_recall: 0.8444\n",
      "Epoch 43/50\n",
      "104/104 [==============================] - 0s 2ms/step - loss: 0.4800 - recall: 0.8171 - val_loss: 0.5781 - val_recall: 0.8377\n",
      "Epoch 44/50\n",
      "104/104 [==============================] - 0s 2ms/step - loss: 0.4804 - recall: 0.8150 - val_loss: 0.5814 - val_recall: 0.8444\n",
      "Epoch 45/50\n",
      "104/104 [==============================] - 0s 2ms/step - loss: 0.4785 - recall: 0.8098 - val_loss: 0.5771 - val_recall: 0.8411\n",
      "Epoch 46/50\n",
      "104/104 [==============================] - 0s 2ms/step - loss: 0.4783 - recall: 0.8098 - val_loss: 0.5764 - val_recall: 0.8344\n",
      "Epoch 47/50\n",
      "104/104 [==============================] - 0s 2ms/step - loss: 0.4753 - recall: 0.8198 - val_loss: 0.5817 - val_recall: 0.8477\n",
      "Epoch 48/50\n",
      "104/104 [==============================] - 0s 2ms/step - loss: 0.4760 - recall: 0.8216 - val_loss: 0.5785 - val_recall: 0.8411\n",
      "Epoch 49/50\n",
      "104/104 [==============================] - 0s 2ms/step - loss: 0.4755 - recall: 0.8150 - val_loss: 0.5801 - val_recall: 0.8444\n",
      "Epoch 50/50\n",
      "104/104 [==============================] - 0s 2ms/step - loss: 0.4740 - recall: 0.8156 - val_loss: 0.5797 - val_recall: 0.8411\n",
      "CPU times: total: 11.6 s\n",
      "Wall time: 10.4 s\n"
     ]
    }
   ],
   "source": [
    "%%time\n",
    "history_func = model_functional.fit(df_train_shuffle, validation_data=(X_val_final, y_val),epochs=50)"
   ]
  },
  {
   "cell_type": "markdown",
   "metadata": {},
   "source": [
    "## 7.3 Sequential API Optimization"
   ]
  },
  {
   "cell_type": "markdown",
   "metadata": {},
   "source": [
    "Disini dilakukan training untuk Optimasi Sequential API. Optimasi dilakukan dengan Hyperparameter Tuning menggunakan GridSearchVC. Metric yang digunakan adalah `Recall`\n",
    "\n",
    "Variable2 yang akan di-tuning adalah:\n",
    "- Jumlah layer berserta jumlah Node nya, \n",
    "- Jenis activation function nya. \n",
    "\n",
    "Selain itu juga dilakukan Dropping untuk mengurangi kompleksitas model yang dibuat"
   ]
  },
  {
   "cell_type": "code",
   "execution_count": 36,
   "metadata": {},
   "outputs": [],
   "source": [
    "# membuat fungsi untuk tuning\n",
    "\n",
    "def create_model(layers, activation):\n",
    "    model = Sequential()\n",
    "    for i, nodes in enumerate(layers):\n",
    "        if i==0:\n",
    "            model.add(Dense(nodes,input_dim=X_train_final.shape[1]))\n",
    "            model.add(tf.keras.layers.Activation(activation))\n",
    "            model.add(tf.keras.layers.Dropout(0.3))\n",
    "        else:\n",
    "            model.add(Dense(nodes))\n",
    "            model.add(tf.keras.layers.Activation(activation))\n",
    "            model.add(tf.keras.layers.Dropout(0.3))\n",
    "            \n",
    "    model.add(Dense(units = 1, kernel_initializer= 'glorot_uniform', activation = 'sigmoid')) \n",
    "    \n",
    "    model.compile(optimizer='Adam', loss='binary_crossentropy',metrics=['Recall'])\n",
    "    return model\n",
    "    \n",
    "model = KerasClassifier(build_fn=create_model, verbose=0)"
   ]
  },
  {
   "cell_type": "code",
   "execution_count": 37,
   "metadata": {},
   "outputs": [],
   "source": [
    "# Mendefinisikan variable2 yang akan di-tuning\n",
    "param_grid= dict(\n",
    "    layers =[[20], [40, 20], [45, 30, 15]],\n",
    "    activation= ['sigmoid', 'relu'],\n",
    "    epochs= [50]\n",
    ")\n",
    "\n",
    "grid_seq = GridSearchCV(estimator=model, param_grid=param_grid,cv=3,verbose=2)"
   ]
  },
  {
   "cell_type": "code",
   "execution_count": 38,
   "metadata": {},
   "outputs": [
    {
     "name": "stdout",
     "output_type": "stream",
     "text": [
      "Fitting 3 folds for each of 6 candidates, totalling 18 fits\n",
      "[CV] END .........activation=sigmoid, epochs=50, layers=[20]; total time=   2.1s\n",
      "[CV] END .........activation=sigmoid, epochs=50, layers=[20]; total time=   2.2s\n",
      "[CV] END .........activation=sigmoid, epochs=50, layers=[20]; total time=   9.0s\n",
      "[CV] END .....activation=sigmoid, epochs=50, layers=[40, 20]; total time=   2.2s\n",
      "[CV] END .....activation=sigmoid, epochs=50, layers=[40, 20]; total time=   1.8s\n",
      "[CV] END .....activation=sigmoid, epochs=50, layers=[40, 20]; total time=   5.1s\n",
      "[CV] END .activation=sigmoid, epochs=50, layers=[45, 30, 15]; total time=   2.4s\n",
      "[CV] END .activation=sigmoid, epochs=50, layers=[45, 30, 15]; total time=   3.3s\n",
      "[CV] END .activation=sigmoid, epochs=50, layers=[45, 30, 15]; total time=   5.7s\n",
      "[CV] END ............activation=relu, epochs=50, layers=[20]; total time=   2.0s\n",
      "[CV] END ............activation=relu, epochs=50, layers=[20]; total time=   1.7s\n",
      "[CV] END ............activation=relu, epochs=50, layers=[20]; total time=   5.1s\n",
      "[CV] END ........activation=relu, epochs=50, layers=[40, 20]; total time=   2.2s\n",
      "[CV] END ........activation=relu, epochs=50, layers=[40, 20]; total time=   1.8s\n",
      "[CV] END ........activation=relu, epochs=50, layers=[40, 20]; total time=   5.7s\n",
      "[CV] END ....activation=relu, epochs=50, layers=[45, 30, 15]; total time=   2.5s\n",
      "[CV] END ....activation=relu, epochs=50, layers=[45, 30, 15]; total time=   1.9s\n",
      "[CV] END ....activation=relu, epochs=50, layers=[45, 30, 15]; total time=   4.2s\n",
      "CPU times: total: 1min 23s\n",
      "Wall time: 1min 5s\n"
     ]
    }
   ],
   "source": [
    "%%time\n",
    "grid_result_seq = grid_seq.fit(\n",
    "    X_train_res, y_train_res,\n",
    "    validation_data=(X_val_final, y_val),\n",
    "    callbacks=[keras.callbacks.EarlyStopping(patience=3)]) # menggunakan callback "
   ]
  },
  {
   "cell_type": "code",
   "execution_count": 39,
   "metadata": {},
   "outputs": [
    {
     "data": {
      "text/plain": [
       "{'activation': 'sigmoid', 'epochs': 50, 'layers': [20]}"
      ]
     },
     "execution_count": 39,
     "metadata": {},
     "output_type": "execute_result"
    }
   ],
   "source": [
    "grid_result_seq.best_params_"
   ]
  },
  {
   "cell_type": "markdown",
   "metadata": {},
   "source": [
    "Best parameter yang bisa digunakan adalah:\n",
    "- activation function = sigmoid\n",
    "- jumlah hidden layer = 1 dengan 20 node"
   ]
  },
  {
   "cell_type": "code",
   "execution_count": 40,
   "metadata": {},
   "outputs": [
    {
     "data": {
      "text/plain": [
       "<keras.wrappers.scikit_learn.KerasClassifier at 0x1ba57e03f10>"
      ]
     },
     "execution_count": 40,
     "metadata": {},
     "output_type": "execute_result"
    }
   ],
   "source": [
    "grid_result_seq.best_estimator_"
   ]
  },
  {
   "cell_type": "markdown",
   "metadata": {},
   "source": [
    "## 7.4 Functional API Optimization"
   ]
  },
  {
   "cell_type": "markdown",
   "metadata": {},
   "source": [
    "Disini dilakukan optimasi terhadap Functional API dengan melakukan Bacth normalization dan dropout untuk mengurangi kompleksitas model"
   ]
  },
  {
   "cell_type": "code",
   "execution_count": 41,
   "metadata": {},
   "outputs": [
    {
     "name": "stdout",
     "output_type": "stream",
     "text": [
      "Model: \"model_1\"\n",
      "_________________________________________________________________\n",
      " Layer (type)                Output Shape              Param #   \n",
      "=================================================================\n",
      " input_2 (InputLayer)        [(None, 19)]              0         \n",
      "                                                                 \n",
      " batch_normalization (BatchN  (None, 19)               76        \n",
      " ormalization)                                                   \n",
      "                                                                 \n",
      " dense_62 (Dense)            (None, 10)                200       \n",
      "                                                                 \n",
      " dropout_37 (Dropout)        (None, 10)                0         \n",
      "                                                                 \n",
      " batch_normalization_1 (Batc  (None, 10)               40        \n",
      " hNormalization)                                                 \n",
      "                                                                 \n",
      " dense_63 (Dense)            (None, 8)                 88        \n",
      "                                                                 \n",
      " dropout_38 (Dropout)        (None, 8)                 0         \n",
      "                                                                 \n",
      " dense_64 (Dense)            (None, 1)                 9         \n",
      "                                                                 \n",
      "=================================================================\n",
      "Total params: 413\n",
      "Trainable params: 355\n",
      "Non-trainable params: 58\n",
      "_________________________________________________________________\n"
     ]
    }
   ],
   "source": [
    "input_layer = Input(shape=(19,))\n",
    "\n",
    "normal_1= tf.keras.layers.BatchNormalization()(input_layer)\n",
    "layer_1 = Dense(10, activation='relu')(normal_1)\n",
    "dropout_1 = tf.keras.layers.Dropout(.3)(layer_1)\n",
    "\n",
    "normal_2= tf.keras.layers.BatchNormalization()(dropout_1)\n",
    "layer_2 = Dense(8, activation='relu')(normal_2)\n",
    "dropout_2 = tf.keras.layers.Dropout(.3)(layer_2)\n",
    "\n",
    "output_layer_op = Dense(1, activation='sigmoid')(dropout_2)\n",
    "\n",
    "model_func_op = Model(inputs=input_layer, outputs=output_layer_op)\n",
    "\n",
    "# Model Compile\n",
    "model_func_op.compile(loss='binary_crossentropy', \n",
    "                         optimizer='Adam',\n",
    "                         metrics=['Recall'])\n",
    "\n",
    "model_func_op.summary()"
   ]
  },
  {
   "cell_type": "code",
   "execution_count": 42,
   "metadata": {},
   "outputs": [
    {
     "name": "stdout",
     "output_type": "stream",
     "text": [
      "Epoch 1/50\n",
      "104/104 [==============================] - 1s 3ms/step - loss: 0.8059 - recall: 0.6893 - val_loss: 0.7354 - val_recall: 0.8212\n",
      "Epoch 2/50\n",
      "104/104 [==============================] - 0s 2ms/step - loss: 0.7141 - recall: 0.6278 - val_loss: 0.6500 - val_recall: 0.6490\n",
      "Epoch 3/50\n",
      "104/104 [==============================] - 0s 2ms/step - loss: 0.6852 - recall: 0.5824 - val_loss: 0.6230 - val_recall: 0.6225\n",
      "Epoch 4/50\n",
      "104/104 [==============================] - 0s 2ms/step - loss: 0.6684 - recall: 0.5594 - val_loss: 0.6064 - val_recall: 0.6093\n",
      "Epoch 5/50\n",
      "104/104 [==============================] - 0s 2ms/step - loss: 0.6528 - recall: 0.5475 - val_loss: 0.5956 - val_recall: 0.6258\n",
      "Epoch 6/50\n",
      "104/104 [==============================] - 0s 2ms/step - loss: 0.6477 - recall: 0.5536 - val_loss: 0.5892 - val_recall: 0.6391\n",
      "Epoch 7/50\n",
      "104/104 [==============================] - 0s 2ms/step - loss: 0.6480 - recall: 0.5509 - val_loss: 0.5785 - val_recall: 0.6325\n",
      "Epoch 8/50\n",
      "104/104 [==============================] - 0s 2ms/step - loss: 0.6383 - recall: 0.5482 - val_loss: 0.5727 - val_recall: 0.6424\n",
      "Epoch 9/50\n",
      "104/104 [==============================] - 0s 2ms/step - loss: 0.6266 - recall: 0.5663 - val_loss: 0.5640 - val_recall: 0.6424\n",
      "Epoch 10/50\n",
      "104/104 [==============================] - 0s 2ms/step - loss: 0.6311 - recall: 0.5572 - val_loss: 0.5555 - val_recall: 0.6457\n",
      "Epoch 11/50\n",
      "104/104 [==============================] - 0s 2ms/step - loss: 0.6210 - recall: 0.5654 - val_loss: 0.5502 - val_recall: 0.6391\n",
      "Epoch 12/50\n",
      "104/104 [==============================] - 0s 2ms/step - loss: 0.6190 - recall: 0.5809 - val_loss: 0.5456 - val_recall: 0.6457\n",
      "Epoch 13/50\n",
      "104/104 [==============================] - 0s 2ms/step - loss: 0.6186 - recall: 0.5902 - val_loss: 0.5449 - val_recall: 0.6457\n",
      "Epoch 14/50\n",
      "104/104 [==============================] - 0s 2ms/step - loss: 0.6151 - recall: 0.5866 - val_loss: 0.5452 - val_recall: 0.6623\n",
      "Epoch 15/50\n",
      "104/104 [==============================] - 0s 2ms/step - loss: 0.6102 - recall: 0.6002 - val_loss: 0.5413 - val_recall: 0.6623\n",
      "Epoch 16/50\n",
      "104/104 [==============================] - 0s 2ms/step - loss: 0.6189 - recall: 0.5878 - val_loss: 0.5359 - val_recall: 0.6656\n",
      "Epoch 17/50\n",
      "104/104 [==============================] - 0s 2ms/step - loss: 0.6058 - recall: 0.6096 - val_loss: 0.5337 - val_recall: 0.6589\n",
      "Epoch 18/50\n",
      "104/104 [==============================] - 0s 2ms/step - loss: 0.6003 - recall: 0.6127 - val_loss: 0.5319 - val_recall: 0.6656\n",
      "Epoch 19/50\n",
      "104/104 [==============================] - 0s 2ms/step - loss: 0.6044 - recall: 0.6136 - val_loss: 0.5301 - val_recall: 0.6623\n",
      "Epoch 20/50\n",
      "104/104 [==============================] - 0s 2ms/step - loss: 0.6066 - recall: 0.6105 - val_loss: 0.5290 - val_recall: 0.6656\n",
      "Epoch 21/50\n",
      "104/104 [==============================] - 0s 2ms/step - loss: 0.6089 - recall: 0.6018 - val_loss: 0.5268 - val_recall: 0.6589\n",
      "Epoch 22/50\n",
      "104/104 [==============================] - 0s 2ms/step - loss: 0.6052 - recall: 0.5954 - val_loss: 0.5293 - val_recall: 0.6556\n",
      "Epoch 23/50\n",
      "104/104 [==============================] - 0s 2ms/step - loss: 0.6110 - recall: 0.5990 - val_loss: 0.5300 - val_recall: 0.6589\n",
      "Epoch 24/50\n",
      "104/104 [==============================] - 0s 2ms/step - loss: 0.6051 - recall: 0.6121 - val_loss: 0.5270 - val_recall: 0.6656\n",
      "Epoch 25/50\n",
      "104/104 [==============================] - 0s 2ms/step - loss: 0.5992 - recall: 0.6136 - val_loss: 0.5250 - val_recall: 0.6722\n",
      "Epoch 26/50\n",
      "104/104 [==============================] - 0s 2ms/step - loss: 0.6021 - recall: 0.6108 - val_loss: 0.5226 - val_recall: 0.6689\n",
      "Epoch 27/50\n",
      "104/104 [==============================] - 0s 2ms/step - loss: 0.6079 - recall: 0.6105 - val_loss: 0.5240 - val_recall: 0.6722\n",
      "Epoch 28/50\n",
      "104/104 [==============================] - 0s 2ms/step - loss: 0.6013 - recall: 0.6193 - val_loss: 0.5251 - val_recall: 0.6623\n",
      "Epoch 29/50\n",
      "104/104 [==============================] - 0s 2ms/step - loss: 0.6083 - recall: 0.6021 - val_loss: 0.5270 - val_recall: 0.6589\n",
      "Epoch 30/50\n",
      "104/104 [==============================] - 0s 2ms/step - loss: 0.5975 - recall: 0.6136 - val_loss: 0.5274 - val_recall: 0.6788\n",
      "Epoch 31/50\n",
      "104/104 [==============================] - 0s 2ms/step - loss: 0.6019 - recall: 0.6178 - val_loss: 0.5279 - val_recall: 0.6788\n",
      "Epoch 32/50\n",
      "104/104 [==============================] - 0s 2ms/step - loss: 0.6047 - recall: 0.6220 - val_loss: 0.5275 - val_recall: 0.6755\n",
      "Epoch 33/50\n",
      "104/104 [==============================] - 0s 2ms/step - loss: 0.6016 - recall: 0.6078 - val_loss: 0.5258 - val_recall: 0.6589\n",
      "Epoch 34/50\n",
      "104/104 [==============================] - 0s 2ms/step - loss: 0.5973 - recall: 0.6060 - val_loss: 0.5236 - val_recall: 0.6656\n",
      "Epoch 35/50\n",
      "104/104 [==============================] - 0s 2ms/step - loss: 0.5985 - recall: 0.6199 - val_loss: 0.5203 - val_recall: 0.6755\n",
      "Epoch 36/50\n",
      "104/104 [==============================] - 0s 2ms/step - loss: 0.5944 - recall: 0.6287 - val_loss: 0.5214 - val_recall: 0.7020\n",
      "Epoch 37/50\n",
      "104/104 [==============================] - 0s 2ms/step - loss: 0.5928 - recall: 0.6336 - val_loss: 0.5207 - val_recall: 0.6954\n",
      "Epoch 38/50\n",
      "104/104 [==============================] - 0s 2ms/step - loss: 0.6001 - recall: 0.6236 - val_loss: 0.5188 - val_recall: 0.6755\n",
      "Epoch 39/50\n",
      "104/104 [==============================] - 0s 2ms/step - loss: 0.5987 - recall: 0.6305 - val_loss: 0.5215 - val_recall: 0.6722\n",
      "Epoch 40/50\n",
      "104/104 [==============================] - 0s 2ms/step - loss: 0.5937 - recall: 0.6348 - val_loss: 0.5197 - val_recall: 0.6722\n",
      "Epoch 41/50\n",
      "104/104 [==============================] - 0s 2ms/step - loss: 0.5856 - recall: 0.6432 - val_loss: 0.5173 - val_recall: 0.6854\n",
      "Epoch 42/50\n",
      "104/104 [==============================] - 0s 2ms/step - loss: 0.5895 - recall: 0.6411 - val_loss: 0.5187 - val_recall: 0.6887\n",
      "Epoch 43/50\n",
      "104/104 [==============================] - 0s 2ms/step - loss: 0.5944 - recall: 0.6302 - val_loss: 0.5194 - val_recall: 0.6854\n",
      "Epoch 44/50\n",
      "104/104 [==============================] - 0s 2ms/step - loss: 0.5867 - recall: 0.6505 - val_loss: 0.5193 - val_recall: 0.7020\n",
      "Epoch 45/50\n",
      "104/104 [==============================] - 0s 2ms/step - loss: 0.5882 - recall: 0.6442 - val_loss: 0.5179 - val_recall: 0.7053\n",
      "Epoch 46/50\n",
      "104/104 [==============================] - 0s 2ms/step - loss: 0.5936 - recall: 0.6448 - val_loss: 0.5198 - val_recall: 0.7053\n",
      "Epoch 47/50\n",
      "104/104 [==============================] - 0s 2ms/step - loss: 0.5922 - recall: 0.6333 - val_loss: 0.5166 - val_recall: 0.6954\n",
      "Epoch 48/50\n",
      "104/104 [==============================] - 0s 2ms/step - loss: 0.5907 - recall: 0.6463 - val_loss: 0.5180 - val_recall: 0.7053\n",
      "Epoch 49/50\n",
      "104/104 [==============================] - 0s 2ms/step - loss: 0.5906 - recall: 0.6387 - val_loss: 0.5156 - val_recall: 0.7152\n",
      "Epoch 50/50\n",
      "104/104 [==============================] - 0s 2ms/step - loss: 0.5846 - recall: 0.6505 - val_loss: 0.5172 - val_recall: 0.7119\n",
      "CPU times: total: 13.3 s\n",
      "Wall time: 11 s\n"
     ]
    }
   ],
   "source": [
    "%%time\n",
    "history_func_op = model_func_op.fit(df_train_shuffle, validation_data=(X_val_final, y_val),epochs=50)"
   ]
  },
  {
   "cell_type": "markdown",
   "metadata": {},
   "source": [
    "# 8. Evaluation"
   ]
  },
  {
   "cell_type": "markdown",
   "metadata": {},
   "source": [
    "## 8.1 Sequential"
   ]
  },
  {
   "cell_type": "code",
   "execution_count": 43,
   "metadata": {},
   "outputs": [
    {
     "data": {
      "text/html": [
       "<div>\n",
       "<style scoped>\n",
       "    .dataframe tbody tr th:only-of-type {\n",
       "        vertical-align: middle;\n",
       "    }\n",
       "\n",
       "    .dataframe tbody tr th {\n",
       "        vertical-align: top;\n",
       "    }\n",
       "\n",
       "    .dataframe thead th {\n",
       "        text-align: right;\n",
       "    }\n",
       "</style>\n",
       "<table border=\"1\" class=\"dataframe\">\n",
       "  <thead>\n",
       "    <tr style=\"text-align: right;\">\n",
       "      <th></th>\n",
       "      <th>loss</th>\n",
       "      <th>recall</th>\n",
       "      <th>val_loss</th>\n",
       "      <th>val_recall</th>\n",
       "    </tr>\n",
       "  </thead>\n",
       "  <tbody>\n",
       "    <tr>\n",
       "      <th>0</th>\n",
       "      <td>0.690657</td>\n",
       "      <td>0.646275</td>\n",
       "      <td>0.800699</td>\n",
       "      <td>0.986755</td>\n",
       "    </tr>\n",
       "    <tr>\n",
       "      <th>1</th>\n",
       "      <td>0.669130</td>\n",
       "      <td>0.724409</td>\n",
       "      <td>0.778014</td>\n",
       "      <td>0.976821</td>\n",
       "    </tr>\n",
       "    <tr>\n",
       "      <th>2</th>\n",
       "      <td>0.642612</td>\n",
       "      <td>0.736826</td>\n",
       "      <td>0.779099</td>\n",
       "      <td>0.963576</td>\n",
       "    </tr>\n",
       "    <tr>\n",
       "      <th>3</th>\n",
       "      <td>0.617901</td>\n",
       "      <td>0.732586</td>\n",
       "      <td>0.765572</td>\n",
       "      <td>0.937086</td>\n",
       "    </tr>\n",
       "    <tr>\n",
       "      <th>4</th>\n",
       "      <td>0.594051</td>\n",
       "      <td>0.728346</td>\n",
       "      <td>0.750399</td>\n",
       "      <td>0.910596</td>\n",
       "    </tr>\n",
       "  </tbody>\n",
       "</table>\n",
       "</div>"
      ],
      "text/plain": [
       "       loss    recall  val_loss  val_recall\n",
       "0  0.690657  0.646275  0.800699    0.986755\n",
       "1  0.669130  0.724409  0.778014    0.976821\n",
       "2  0.642612  0.736826  0.779099    0.963576\n",
       "3  0.617901  0.732586  0.765572    0.937086\n",
       "4  0.594051  0.728346  0.750399    0.910596"
      ]
     },
     "execution_count": 43,
     "metadata": {},
     "output_type": "execute_result"
    }
   ],
   "source": [
    "history_seq_df = pd.DataFrame(history_seq.history)\n",
    "history_seq_df.head()"
   ]
  },
  {
   "cell_type": "code",
   "execution_count": 44,
   "metadata": {},
   "outputs": [
    {
     "data": {
      "text/plain": [
       "<AxesSubplot:>"
      ]
     },
     "execution_count": 44,
     "metadata": {},
     "output_type": "execute_result"
    },
    {
     "data": {
      "image/png": "[encoded data removed]",
      "text/plain": [
       "<Figure size 432x288 with 1 Axes>"
      ]
     },
     "metadata": {
      "needs_background": "light"
     },
     "output_type": "display_data"
    }
   ],
   "source": [
    "# Plot antara recall dan val_recall\n",
    "\n",
    "history_seq_df[['recall', 'val_recall']].plot()"
   ]
  },
  {
   "cell_type": "markdown",
   "metadata": {},
   "source": [
    "- Untuk train set mengalami kenaikan hingga akhirnya stagnan di sekitar 0.8\n",
    "- validation set memiliki nilai recal yang tinggi di awal lalu kemudian menurun dan bersinggungan dengan nilai recall train set"
   ]
  },
  {
   "cell_type": "code",
   "execution_count": 45,
   "metadata": {},
   "outputs": [
    {
     "data": {
      "text/plain": [
       "<AxesSubplot:>"
      ]
     },
     "execution_count": 45,
     "metadata": {},
     "output_type": "execute_result"
    },
    {
     "data": {
      "image/png": "[encoded data removed]",
      "text/plain": [
       "<Figure size 432x288 with 1 Axes>"
      ]
     },
     "metadata": {
      "needs_background": "light"
     },
     "output_type": "display_data"
    }
   ],
   "source": [
    "# Plot between loss and val_loss\n",
    "\n",
    "history_seq_df[['loss', 'val_loss']].plot()"
   ]
  },
  {
   "cell_type": "markdown",
   "metadata": {},
   "source": [
    "tidak ada fenomena vanishing maupun exploding gradient, namun nilai loss function antara train set dan val set cukup berjauhan dengan selisih hingga 0.1"
   ]
  },
  {
   "cell_type": "code",
   "execution_count": 46,
   "metadata": {},
   "outputs": [
    {
     "name": "stdout",
     "output_type": "stream",
     "text": [
      "141/141 [==============================] - 0s 758us/step\n",
      "44/44 [==============================] - 0s 830us/step\n",
      "Train set\n",
      "              precision    recall  f1-score   support\n",
      "\n",
      "           0       0.93      0.65      0.77      3302\n",
      "           1       0.47      0.86      0.61      1191\n",
      "\n",
      "    accuracy                           0.71      4493\n",
      "   macro avg       0.70      0.76      0.69      4493\n",
      "weighted avg       0.81      0.71      0.72      4493\n",
      "\n",
      "Test set\n",
      "              precision    recall  f1-score   support\n",
      "\n",
      "           0       0.93      0.66      0.77      1029\n",
      "           1       0.48      0.86      0.62       374\n",
      "\n",
      "    accuracy                           0.71      1403\n",
      "   macro avg       0.70      0.76      0.69      1403\n",
      "weighted avg       0.81      0.71      0.73      1403\n",
      "\n"
     ]
    }
   ],
   "source": [
    "# Model Evaluation using Classification Report\n",
    "y_train_pred_seq = model_sequential.predict(X_train_final)\n",
    "y_train_pred_seq = np.where(y_train_pred_seq >= 0.5, 1, 0)\n",
    "y_test_pred_seq = model_sequential.predict(X_test_final)\n",
    "y_test_pred_seq = np.where(y_test_pred_seq >= 0.5, 1, 0)\n",
    "\n",
    "print('Train set')\n",
    "print(classification_report(y_train, y_train_pred_seq))\n",
    "print('Test set')\n",
    "print(classification_report(y_test, y_test_pred_seq))"
   ]
  },
  {
   "cell_type": "markdown",
   "metadata": {},
   "source": [
    "- train set dan test set masing2 memiliki nilai recall 0.89 dan 0.84. nilai yang cukup baik dan tidak overfitting\n",
    "- baik train set maupun test set memiliki nilai precision dan f1 yang buruk, namun itu tidak masalah karean yang diharapkan adalah nilai recall yang baik"
   ]
  },
  {
   "cell_type": "markdown",
   "metadata": {},
   "source": [
    "## 8.2 Functional"
   ]
  },
  {
   "cell_type": "code",
   "execution_count": 47,
   "metadata": {},
   "outputs": [
    {
     "data": {
      "text/html": [
       "<div>\n",
       "<style scoped>\n",
       "    .dataframe tbody tr th:only-of-type {\n",
       "        vertical-align: middle;\n",
       "    }\n",
       "\n",
       "    .dataframe tbody tr th {\n",
       "        vertical-align: top;\n",
       "    }\n",
       "\n",
       "    .dataframe thead th {\n",
       "        text-align: right;\n",
       "    }\n",
       "</style>\n",
       "<table border=\"1\" class=\"dataframe\">\n",
       "  <thead>\n",
       "    <tr style=\"text-align: right;\">\n",
       "      <th></th>\n",
       "      <th>loss</th>\n",
       "      <th>recall</th>\n",
       "      <th>val_loss</th>\n",
       "      <th>val_recall</th>\n",
       "    </tr>\n",
       "  </thead>\n",
       "  <tbody>\n",
       "    <tr>\n",
       "      <th>0</th>\n",
       "      <td>0.775869</td>\n",
       "      <td>0.155966</td>\n",
       "      <td>0.751318</td>\n",
       "      <td>0.519868</td>\n",
       "    </tr>\n",
       "    <tr>\n",
       "      <th>1</th>\n",
       "      <td>0.704342</td>\n",
       "      <td>0.269836</td>\n",
       "      <td>0.678195</td>\n",
       "      <td>0.642384</td>\n",
       "    </tr>\n",
       "    <tr>\n",
       "      <th>2</th>\n",
       "      <td>0.658904</td>\n",
       "      <td>0.408843</td>\n",
       "      <td>0.653250</td>\n",
       "      <td>0.801324</td>\n",
       "    </tr>\n",
       "    <tr>\n",
       "      <th>3</th>\n",
       "      <td>0.627556</td>\n",
       "      <td>0.577529</td>\n",
       "      <td>0.635460</td>\n",
       "      <td>0.854305</td>\n",
       "    </tr>\n",
       "    <tr>\n",
       "      <th>4</th>\n",
       "      <td>0.597089</td>\n",
       "      <td>0.684434</td>\n",
       "      <td>0.635576</td>\n",
       "      <td>0.880795</td>\n",
       "    </tr>\n",
       "  </tbody>\n",
       "</table>\n",
       "</div>"
      ],
      "text/plain": [
       "       loss    recall  val_loss  val_recall\n",
       "0  0.775869  0.155966  0.751318    0.519868\n",
       "1  0.704342  0.269836  0.678195    0.642384\n",
       "2  0.658904  0.408843  0.653250    0.801324\n",
       "3  0.627556  0.577529  0.635460    0.854305\n",
       "4  0.597089  0.684434  0.635576    0.880795"
      ]
     },
     "execution_count": 47,
     "metadata": {},
     "output_type": "execute_result"
    }
   ],
   "source": [
    "history_func_df = pd.DataFrame(history_func.history)\n",
    "history_func_df.head()"
   ]
  },
  {
   "cell_type": "code",
   "execution_count": 48,
   "metadata": {},
   "outputs": [
    {
     "data": {
      "text/plain": [
       "<AxesSubplot:>"
      ]
     },
     "execution_count": 48,
     "metadata": {},
     "output_type": "execute_result"
    },
    {
     "data": {
      "image/png": "[encoded data removed]",
      "text/plain": [
       "<Figure size 432x288 with 1 Axes>"
      ]
     },
     "metadata": {
      "needs_background": "light"
     },
     "output_type": "display_data"
    }
   ],
   "source": [
    "# Plot between recall and val_recall\n",
    "\n",
    "history_func_df[['recall', 'val_recall']].plot()"
   ]
  },
  {
   "cell_type": "code",
   "execution_count": 49,
   "metadata": {},
   "outputs": [
    {
     "data": {
      "text/plain": [
       "<AxesSubplot:>"
      ]
     },
     "execution_count": 49,
     "metadata": {},
     "output_type": "execute_result"
    },
    {
     "data": {
      "image/png": "[encoded data removed]",
      "text/plain": [
       "<Figure size 432x288 with 1 Axes>"
      ]
     },
     "metadata": {
      "needs_background": "light"
     },
     "output_type": "display_data"
    }
   ],
   "source": [
    "# Plot between loss and val_loss\n",
    "\n",
    "history_func_df[['loss', 'val_loss']].plot()"
   ]
  },
  {
   "cell_type": "code",
   "execution_count": 50,
   "metadata": {},
   "outputs": [
    {
     "name": "stdout",
     "output_type": "stream",
     "text": [
      "141/141 [==============================] - 0s 802us/step\n",
      "44/44 [==============================] - 0s 872us/step\n",
      "Train set\n",
      "              precision    recall  f1-score   support\n",
      "\n",
      "           0       0.93      0.65      0.77      3302\n",
      "           1       0.47      0.86      0.61      1191\n",
      "\n",
      "    accuracy                           0.71      4493\n",
      "   macro avg       0.70      0.76      0.69      4493\n",
      "weighted avg       0.81      0.71      0.72      4493\n",
      "\n",
      "Test set\n",
      "              precision    recall  f1-score   support\n",
      "\n",
      "           0       0.93      0.66      0.77      1029\n",
      "           1       0.48      0.86      0.62       374\n",
      "\n",
      "    accuracy                           0.71      1403\n",
      "   macro avg       0.70      0.76      0.69      1403\n",
      "weighted avg       0.81      0.71      0.73      1403\n",
      "\n"
     ]
    }
   ],
   "source": [
    "# Model Evaluation using Classification Report\n",
    "y_train_pred_func = model_functional.predict(X_train_final)\n",
    "y_train_pred_func = np.where(y_train_pred_seq >= 0.5, 1, 0)\n",
    "y_test_pred_func = model_functional.predict(X_test_final)\n",
    "y_test_pred_func = np.where(y_test_pred_seq >= 0.5, 1, 0)\n",
    "\n",
    "print('Train set')\n",
    "print(classification_report(y_train, y_train_pred_func))\n",
    "print('Test set')\n",
    "print(classification_report(y_test, y_test_pred_func))"
   ]
  },
  {
   "cell_type": "markdown",
   "metadata": {},
   "source": [
    "model functional API memiliki nilai metrik yang mirip dengan model sequential API"
   ]
  },
  {
   "cell_type": "markdown",
   "metadata": {},
   "source": [
    "## 8.3 Sequential Optimization"
   ]
  },
  {
   "cell_type": "code",
   "execution_count": 51,
   "metadata": {},
   "outputs": [
    {
     "name": "stdout",
     "output_type": "stream",
     "text": [
      "141/141 [==============================] - 0s 907us/step\n",
      "44/44 [==============================] - 0s 907us/step\n",
      "Train set\n",
      "              precision    recall  f1-score   support\n",
      "\n",
      "           0       0.91      0.72      0.80      3302\n",
      "           1       0.51      0.79      0.62      1191\n",
      "\n",
      "    accuracy                           0.74      4493\n",
      "   macro avg       0.71      0.76      0.71      4493\n",
      "weighted avg       0.80      0.74      0.75      4493\n",
      "\n",
      "Test set\n",
      "              precision    recall  f1-score   support\n",
      "\n",
      "           0       0.91      0.74      0.82      1029\n",
      "           1       0.53      0.80      0.64       374\n",
      "\n",
      "    accuracy                           0.76      1403\n",
      "   macro avg       0.72      0.77      0.73      1403\n",
      "weighted avg       0.81      0.76      0.77      1403\n",
      "\n"
     ]
    }
   ],
   "source": [
    "# Model Evaluation using Classification Report\n",
    "y_train_pred_seq_op = grid_result_seq.predict(X_train_final)\n",
    "y_train_pred_seq_op = np.where(y_train_pred_seq_op >= 0.5, 1, 0)\n",
    "y_test_pred_seq_op = grid_result_seq.predict(X_test_final)\n",
    "y_test_pred_seq_op = np.where(y_test_pred_seq_op >= 0.5, 1, 0)\n",
    "\n",
    "print('Train set')\n",
    "print(classification_report(y_train, y_train_pred_seq_op))\n",
    "print('Test set')\n",
    "print(classification_report(y_test, y_test_pred_seq_op))"
   ]
  },
  {
   "cell_type": "markdown",
   "metadata": {},
   "source": [
    "- hasil dari optimasi ternyata justru lebih buruk dari pada sebelumnya\n",
    "- hal tersebut kemungkinan terjadi akibat dari meningkatnya kompleksitas model karena jumlah node yang digunakan adalah 20 node dalam 1 hidden layer saja"
   ]
  },
  {
   "cell_type": "markdown",
   "metadata": {},
   "source": [
    "## 8.4 Functional Optimization"
   ]
  },
  {
   "cell_type": "code",
   "execution_count": 52,
   "metadata": {},
   "outputs": [
    {
     "data": {
      "text/html": [
       "<div>\n",
       "<style scoped>\n",
       "    .dataframe tbody tr th:only-of-type {\n",
       "        vertical-align: middle;\n",
       "    }\n",
       "\n",
       "    .dataframe tbody tr th {\n",
       "        vertical-align: top;\n",
       "    }\n",
       "\n",
       "    .dataframe thead th {\n",
       "        text-align: right;\n",
       "    }\n",
       "</style>\n",
       "<table border=\"1\" class=\"dataframe\">\n",
       "  <thead>\n",
       "    <tr style=\"text-align: right;\">\n",
       "      <th></th>\n",
       "      <th>loss</th>\n",
       "      <th>recall</th>\n",
       "      <th>val_loss</th>\n",
       "      <th>val_recall</th>\n",
       "    </tr>\n",
       "  </thead>\n",
       "  <tbody>\n",
       "    <tr>\n",
       "      <th>0</th>\n",
       "      <td>0.805924</td>\n",
       "      <td>0.689279</td>\n",
       "      <td>0.735400</td>\n",
       "      <td>0.821192</td>\n",
       "    </tr>\n",
       "    <tr>\n",
       "      <th>1</th>\n",
       "      <td>0.714125</td>\n",
       "      <td>0.627801</td>\n",
       "      <td>0.650015</td>\n",
       "      <td>0.649007</td>\n",
       "    </tr>\n",
       "    <tr>\n",
       "      <th>2</th>\n",
       "      <td>0.685196</td>\n",
       "      <td>0.582374</td>\n",
       "      <td>0.623038</td>\n",
       "      <td>0.622517</td>\n",
       "    </tr>\n",
       "    <tr>\n",
       "      <th>3</th>\n",
       "      <td>0.668403</td>\n",
       "      <td>0.559358</td>\n",
       "      <td>0.606388</td>\n",
       "      <td>0.609272</td>\n",
       "    </tr>\n",
       "    <tr>\n",
       "      <th>4</th>\n",
       "      <td>0.652770</td>\n",
       "      <td>0.547547</td>\n",
       "      <td>0.595587</td>\n",
       "      <td>0.625828</td>\n",
       "    </tr>\n",
       "  </tbody>\n",
       "</table>\n",
       "</div>"
      ],
      "text/plain": [
       "       loss    recall  val_loss  val_recall\n",
       "0  0.805924  0.689279  0.735400    0.821192\n",
       "1  0.714125  0.627801  0.650015    0.649007\n",
       "2  0.685196  0.582374  0.623038    0.622517\n",
       "3  0.668403  0.559358  0.606388    0.609272\n",
       "4  0.652770  0.547547  0.595587    0.625828"
      ]
     },
     "execution_count": 52,
     "metadata": {},
     "output_type": "execute_result"
    }
   ],
   "source": [
    "history_func_df_op = pd.DataFrame(history_func_op.history)\n",
    "history_func_df_op.head()"
   ]
  },
  {
   "cell_type": "code",
   "execution_count": 53,
   "metadata": {},
   "outputs": [
    {
     "data": {
      "text/plain": [
       "<AxesSubplot:>"
      ]
     },
     "execution_count": 53,
     "metadata": {},
     "output_type": "execute_result"
    },
    {
     "data": {
      "image/png": "[encoded data removed]",
      "text/plain": [
       "<Figure size 432x288 with 1 Axes>"
      ]
     },
     "metadata": {
      "needs_background": "light"
     },
     "output_type": "display_data"
    }
   ],
   "source": [
    "history_func_df_op[['recall', 'val_recall']].plot()"
   ]
  },
  {
   "cell_type": "markdown",
   "metadata": {},
   "source": [
    "- untuk validation recall mencapai diatas 0.9 \n",
    "- sedangkan train set recall mencapai diatas 0.85 namun turun lagi dan berakhir di sekitar 0.8"
   ]
  },
  {
   "cell_type": "code",
   "execution_count": 54,
   "metadata": {},
   "outputs": [
    {
     "data": {
      "text/plain": [
       "<AxesSubplot:>"
      ]
     },
     "execution_count": 54,
     "metadata": {},
     "output_type": "execute_result"
    },
    {
     "data": {
      "image/png": "[encoded data removed]",
      "text/plain": [
       "<Figure size 432x288 with 1 Axes>"
      ]
     },
     "metadata": {
      "needs_background": "light"
     },
     "output_type": "display_data"
    }
   ],
   "source": [
    "# Plot between loss and val_loss\n",
    "\n",
    "history_func_df_op[['loss', 'val_loss']].plot()"
   ]
  },
  {
   "cell_type": "code",
   "execution_count": 55,
   "metadata": {},
   "outputs": [
    {
     "name": "stdout",
     "output_type": "stream",
     "text": [
      "141/141 [==============================] - 0s 889us/step\n",
      "44/44 [==============================] - 0s 943us/step\n",
      "Train set\n",
      "              precision    recall  f1-score   support\n",
      "\n",
      "           0       0.91      0.72      0.80      3302\n",
      "           1       0.51      0.79      0.62      1191\n",
      "\n",
      "    accuracy                           0.74      4493\n",
      "   macro avg       0.71      0.76      0.71      4493\n",
      "weighted avg       0.80      0.74      0.75      4493\n",
      "\n",
      "Test set\n",
      "              precision    recall  f1-score   support\n",
      "\n",
      "           0       0.91      0.74      0.82      1029\n",
      "           1       0.53      0.80      0.64       374\n",
      "\n",
      "    accuracy                           0.76      1403\n",
      "   macro avg       0.72      0.77      0.73      1403\n",
      "weighted avg       0.81      0.76      0.77      1403\n",
      "\n"
     ]
    }
   ],
   "source": [
    "# Model Evaluation using Classification Report\n",
    "y_train_pred_func_op = grid_result_seq.predict(X_train_final)\n",
    "y_train_pred_func_op = np.where(y_train_pred_func_op >= 0.5, 1, 0)\n",
    "y_test_pred_func_op = grid_result_seq.predict(X_test_final)\n",
    "y_test_pred_func_op = np.where(y_test_pred_func_op >= 0.5, 1, 0)\n",
    "\n",
    "print('Train set')\n",
    "print(classification_report(y_train, y_train_pred_func_op))\n",
    "print('Test set')\n",
    "print(classification_report(y_test, y_test_pred_func_op))"
   ]
  },
  {
   "cell_type": "markdown",
   "metadata": {},
   "source": [
    "Sama seperti pada sequential API, setelah dicoba untuk melakukan optimasi justru menurunkan nilai recall nya\n",
    "\n",
    "\n",
    "**`Berdasarkan hasil perbandingan maka diputuskan bahwa model yg terbaik adalah sequential dan functional API sebelum optimasi dengan nilai recall 0.84 pada test set`**"
   ]
  },
  {
   "cell_type": "markdown",
   "metadata": {},
   "source": [
    "## 8.5 Confusion Matrix"
   ]
  },
  {
   "cell_type": "markdown",
   "metadata": {},
   "source": [
    "Untuk memahami makna recall 0.84, kita akan melihat confusion matrix nya"
   ]
  },
  {
   "cell_type": "code",
   "execution_count": 56,
   "metadata": {},
   "outputs": [
    {
     "data": {
      "text/plain": [
       "<sklearn.metrics._plot.confusion_matrix.ConfusionMatrixDisplay at 0x1ba5b2639a0>"
      ]
     },
     "execution_count": 56,
     "metadata": {},
     "output_type": "execute_result"
    },
    {
     "data": {
      "image/png": "[encoded data removed]",
      "text/plain": [
       "<Figure size 432x288 with 2 Axes>"
      ]
     },
     "metadata": {
      "needs_background": "light"
     },
     "output_type": "display_data"
    }
   ],
   "source": [
    "# membuat confusion matrix \n",
    "cm = confusion_matrix(y_test, y_test_pred_seq)\n",
    "\n",
    "disp = ConfusionMatrixDisplay(confusion_matrix=cm)\n",
    "disp.plot()"
   ]
  },
  {
   "cell_type": "markdown",
   "metadata": {},
   "source": [
    "Terlihat bahwa total prediksi yang seharusnya bernilai positif adalah 374, namun model justru menganggap 59 diantaranya sebagai negatif. dengan kata lain: **`Dari seluruh prediksi yang seharusnya menyatakan bahwa 374 pelanggan akan keluar, model justru menganggap 59 diantaranya tidak akan keluar.`**\n",
    "\n",
    "`Kesimpulan`: Model dapat memprediksi pelanggan yang akan keluar dengan tepat sebesar 84%"
   ]
  },
  {
   "cell_type": "markdown",
   "metadata": {},
   "source": [
    "# 9. Model Saving"
   ]
  },
  {
   "cell_type": "code",
   "execution_count": 57,
   "metadata": {},
   "outputs": [
    {
     "name": "stdout",
     "output_type": "stream",
     "text": [
      "Model: \"sequential\"\n",
      "_________________________________________________________________\n",
      " Layer (type)                Output Shape              Param #   \n",
      "=================================================================\n",
      " dense (Dense)               (None, 10)                200       \n",
      "                                                                 \n",
      " dense_1 (Dense)             (None, 8)                 88        \n",
      "                                                                 \n",
      " dense_2 (Dense)             (None, 1)                 9         \n",
      "                                                                 \n",
      "=================================================================\n",
      "Total params: 297\n",
      "Trainable params: 0\n",
      "Non-trainable params: 297\n",
      "_________________________________________________________________\n"
     ]
    }
   ],
   "source": [
    "# Freeze model\n",
    "\n",
    "model_sequential.trainable = False\n",
    "\n",
    "model_sequential.summary()"
   ]
  },
  {
   "cell_type": "code",
   "execution_count": 58,
   "metadata": {},
   "outputs": [
    {
     "name": "stdout",
     "output_type": "stream",
     "text": [
      "INFO:tensorflow:Assets written to: model\\assets\n"
     ]
    }
   ],
   "source": [
    "model_sequential.save(\"model\")"
   ]
  },
  {
   "cell_type": "code",
   "execution_count": 59,
   "metadata": {},
   "outputs": [],
   "source": [
    "model_sequential.save(\"model.h5\")"
   ]
  },
  {
   "cell_type": "code",
   "execution_count": 60,
   "metadata": {},
   "outputs": [
    {
     "name": "stdout",
     "output_type": "stream",
     "text": [
      "INFO:tensorflow:Assets written to: ram://bcb8ca4c-c7d2-4204-b8b2-7d3619e36704/assets\n"
     ]
    }
   ],
   "source": [
    "with open('scaler.pkl', 'wb') as file_1:\n",
    "  joblib.dump(scaler, file_1)\n",
    "\n",
    "with open('encoder.pkl', 'wb') as file_2:\n",
    "  joblib.dump(encoder, file_2)\n",
    "\n",
    "with open('list_num_cols.txt', 'w') as file_3:\n",
    "  json.dump(numeric, file_3)\n",
    "\n",
    "with open('list_cat_columns.txt', 'w') as file_4:\n",
    "  json.dump(category, file_4)\n",
    "\n",
    "with open('model.pkl', 'wb') as file_5:\n",
    "  joblib.dump(model_sequential, file_5)\n"
   ]
  },
  {
   "cell_type": "markdown",
   "metadata": {},
   "source": [
    "# 10. Model Inference"
   ]
  },
  {
   "cell_type": "code",
   "execution_count": 61,
   "metadata": {},
   "outputs": [
    {
     "data": {
      "text/html": [
       "<div>\n",
       "<style scoped>\n",
       "    .dataframe tbody tr th:only-of-type {\n",
       "        vertical-align: middle;\n",
       "    }\n",
       "\n",
       "    .dataframe tbody tr th {\n",
       "        vertical-align: top;\n",
       "    }\n",
       "\n",
       "    .dataframe thead th {\n",
       "        text-align: right;\n",
       "    }\n",
       "</style>\n",
       "<table border=\"1\" class=\"dataframe\">\n",
       "  <thead>\n",
       "    <tr style=\"text-align: right;\">\n",
       "      <th></th>\n",
       "      <th>customerID</th>\n",
       "      <th>gender</th>\n",
       "      <th>SeniorCitizen</th>\n",
       "      <th>Partner</th>\n",
       "      <th>Dependents</th>\n",
       "      <th>tenure</th>\n",
       "      <th>PhoneService</th>\n",
       "      <th>MultipleLines</th>\n",
       "      <th>InternetService</th>\n",
       "      <th>OnlineSecurity</th>\n",
       "      <th>...</th>\n",
       "      <th>DeviceProtection</th>\n",
       "      <th>TechSupport</th>\n",
       "      <th>StreamingTV</th>\n",
       "      <th>StreamingMovies</th>\n",
       "      <th>Contract</th>\n",
       "      <th>PaperlessBilling</th>\n",
       "      <th>PaymentMethod</th>\n",
       "      <th>MonthlyCharges</th>\n",
       "      <th>TotalCharges</th>\n",
       "      <th>Churn</th>\n",
       "    </tr>\n",
       "  </thead>\n",
       "  <tbody>\n",
       "    <tr>\n",
       "      <th>0</th>\n",
       "      <td>4682-BLBUC</td>\n",
       "      <td>Male</td>\n",
       "      <td>0</td>\n",
       "      <td>Yes</td>\n",
       "      <td>No</td>\n",
       "      <td>44</td>\n",
       "      <td>Yes</td>\n",
       "      <td>No</td>\n",
       "      <td>DSL</td>\n",
       "      <td>No</td>\n",
       "      <td>...</td>\n",
       "      <td>Yes</td>\n",
       "      <td>Yes</td>\n",
       "      <td>Yes</td>\n",
       "      <td>No</td>\n",
       "      <td>One year</td>\n",
       "      <td>Yes</td>\n",
       "      <td>Electronic check</td>\n",
       "      <td>70.95</td>\n",
       "      <td>3250.45</td>\n",
       "      <td>No</td>\n",
       "    </tr>\n",
       "    <tr>\n",
       "      <th>1</th>\n",
       "      <td>1131-QQZEB</td>\n",
       "      <td>Male</td>\n",
       "      <td>1</td>\n",
       "      <td>Yes</td>\n",
       "      <td>No</td>\n",
       "      <td>71</td>\n",
       "      <td>Yes</td>\n",
       "      <td>Yes</td>\n",
       "      <td>No</td>\n",
       "      <td>No internet service</td>\n",
       "      <td>...</td>\n",
       "      <td>No internet service</td>\n",
       "      <td>No internet service</td>\n",
       "      <td>No internet service</td>\n",
       "      <td>No internet service</td>\n",
       "      <td>Two year</td>\n",
       "      <td>No</td>\n",
       "      <td>Bank transfer (automatic)</td>\n",
       "      <td>23.95</td>\n",
       "      <td>1756.20</td>\n",
       "      <td>No</td>\n",
       "    </tr>\n",
       "    <tr>\n",
       "      <th>2</th>\n",
       "      <td>0486-LGCCH</td>\n",
       "      <td>Male</td>\n",
       "      <td>0</td>\n",
       "      <td>Yes</td>\n",
       "      <td>Yes</td>\n",
       "      <td>11</td>\n",
       "      <td>Yes</td>\n",
       "      <td>No</td>\n",
       "      <td>No</td>\n",
       "      <td>No internet service</td>\n",
       "      <td>...</td>\n",
       "      <td>No internet service</td>\n",
       "      <td>No internet service</td>\n",
       "      <td>No internet service</td>\n",
       "      <td>No internet service</td>\n",
       "      <td>Two year</td>\n",
       "      <td>No</td>\n",
       "      <td>Mailed check</td>\n",
       "      <td>19.65</td>\n",
       "      <td>225.75</td>\n",
       "      <td>No</td>\n",
       "    </tr>\n",
       "    <tr>\n",
       "      <th>3</th>\n",
       "      <td>0578-SKVMF</td>\n",
       "      <td>Female</td>\n",
       "      <td>0</td>\n",
       "      <td>Yes</td>\n",
       "      <td>Yes</td>\n",
       "      <td>22</td>\n",
       "      <td>Yes</td>\n",
       "      <td>No</td>\n",
       "      <td>Fiber optic</td>\n",
       "      <td>No</td>\n",
       "      <td>...</td>\n",
       "      <td>No</td>\n",
       "      <td>No</td>\n",
       "      <td>No</td>\n",
       "      <td>Yes</td>\n",
       "      <td>Month-to-month</td>\n",
       "      <td>No</td>\n",
       "      <td>Electronic check</td>\n",
       "      <td>83.30</td>\n",
       "      <td>1845.90</td>\n",
       "      <td>Yes</td>\n",
       "    </tr>\n",
       "    <tr>\n",
       "      <th>4</th>\n",
       "      <td>6923-JHPMP</td>\n",
       "      <td>Female</td>\n",
       "      <td>0</td>\n",
       "      <td>No</td>\n",
       "      <td>No</td>\n",
       "      <td>2</td>\n",
       "      <td>Yes</td>\n",
       "      <td>No</td>\n",
       "      <td>Fiber optic</td>\n",
       "      <td>Yes</td>\n",
       "      <td>...</td>\n",
       "      <td>Yes</td>\n",
       "      <td>No</td>\n",
       "      <td>No</td>\n",
       "      <td>No</td>\n",
       "      <td>Month-to-month</td>\n",
       "      <td>Yes</td>\n",
       "      <td>Electronic check</td>\n",
       "      <td>80.45</td>\n",
       "      <td>137.10</td>\n",
       "      <td>No</td>\n",
       "    </tr>\n",
       "    <tr>\n",
       "      <th>5</th>\n",
       "      <td>2832-KJCRD</td>\n",
       "      <td>Female</td>\n",
       "      <td>0</td>\n",
       "      <td>No</td>\n",
       "      <td>No</td>\n",
       "      <td>38</td>\n",
       "      <td>Yes</td>\n",
       "      <td>Yes</td>\n",
       "      <td>Fiber optic</td>\n",
       "      <td>No</td>\n",
       "      <td>...</td>\n",
       "      <td>Yes</td>\n",
       "      <td>Yes</td>\n",
       "      <td>Yes</td>\n",
       "      <td>Yes</td>\n",
       "      <td>Month-to-month</td>\n",
       "      <td>Yes</td>\n",
       "      <td>Electronic check</td>\n",
       "      <td>103.65</td>\n",
       "      <td>3988.50</td>\n",
       "      <td>No</td>\n",
       "    </tr>\n",
       "    <tr>\n",
       "      <th>6</th>\n",
       "      <td>0868-VJRDR</td>\n",
       "      <td>Male</td>\n",
       "      <td>0</td>\n",
       "      <td>Yes</td>\n",
       "      <td>No</td>\n",
       "      <td>64</td>\n",
       "      <td>Yes</td>\n",
       "      <td>No</td>\n",
       "      <td>Fiber optic</td>\n",
       "      <td>Yes</td>\n",
       "      <td>...</td>\n",
       "      <td>No</td>\n",
       "      <td>Yes</td>\n",
       "      <td>Yes</td>\n",
       "      <td>Yes</td>\n",
       "      <td>Two year</td>\n",
       "      <td>Yes</td>\n",
       "      <td>Credit card (automatic)</td>\n",
       "      <td>104.05</td>\n",
       "      <td>6605.55</td>\n",
       "      <td>No</td>\n",
       "    </tr>\n",
       "    <tr>\n",
       "      <th>7</th>\n",
       "      <td>5025-GOOKI</td>\n",
       "      <td>Female</td>\n",
       "      <td>0</td>\n",
       "      <td>No</td>\n",
       "      <td>No</td>\n",
       "      <td>20</td>\n",
       "      <td>Yes</td>\n",
       "      <td>No</td>\n",
       "      <td>No</td>\n",
       "      <td>No internet service</td>\n",
       "      <td>...</td>\n",
       "      <td>No internet service</td>\n",
       "      <td>No internet service</td>\n",
       "      <td>No internet service</td>\n",
       "      <td>No internet service</td>\n",
       "      <td>Month-to-month</td>\n",
       "      <td>Yes</td>\n",
       "      <td>Credit card (automatic)</td>\n",
       "      <td>18.90</td>\n",
       "      <td>347.65</td>\n",
       "      <td>No</td>\n",
       "    </tr>\n",
       "    <tr>\n",
       "      <th>8</th>\n",
       "      <td>1097-FSPVW</td>\n",
       "      <td>Female</td>\n",
       "      <td>0</td>\n",
       "      <td>No</td>\n",
       "      <td>No</td>\n",
       "      <td>42</td>\n",
       "      <td>Yes</td>\n",
       "      <td>No</td>\n",
       "      <td>DSL</td>\n",
       "      <td>Yes</td>\n",
       "      <td>...</td>\n",
       "      <td>Yes</td>\n",
       "      <td>No</td>\n",
       "      <td>No</td>\n",
       "      <td>No</td>\n",
       "      <td>Month-to-month</td>\n",
       "      <td>No</td>\n",
       "      <td>Credit card (automatic)</td>\n",
       "      <td>54.55</td>\n",
       "      <td>2455.05</td>\n",
       "      <td>No</td>\n",
       "    </tr>\n",
       "    <tr>\n",
       "      <th>9</th>\n",
       "      <td>0576-WNXXC</td>\n",
       "      <td>Male</td>\n",
       "      <td>1</td>\n",
       "      <td>Yes</td>\n",
       "      <td>No</td>\n",
       "      <td>27</td>\n",
       "      <td>Yes</td>\n",
       "      <td>Yes</td>\n",
       "      <td>Fiber optic</td>\n",
       "      <td>No</td>\n",
       "      <td>...</td>\n",
       "      <td>Yes</td>\n",
       "      <td>No</td>\n",
       "      <td>No</td>\n",
       "      <td>Yes</td>\n",
       "      <td>Month-to-month</td>\n",
       "      <td>Yes</td>\n",
       "      <td>Electronic check</td>\n",
       "      <td>95.55</td>\n",
       "      <td>2510.20</td>\n",
       "      <td>Yes</td>\n",
       "    </tr>\n",
       "  </tbody>\n",
       "</table>\n",
       "<p>10 rows × 21 columns</p>\n",
       "</div>"
      ],
      "text/plain": [
       "   customerID  gender SeniorCitizen Partner Dependents  tenure PhoneService  \\\n",
       "0  4682-BLBUC    Male             0     Yes         No      44          Yes   \n",
       "1  1131-QQZEB    Male             1     Yes         No      71          Yes   \n",
       "2  0486-LGCCH    Male             0     Yes        Yes      11          Yes   \n",
       "3  0578-SKVMF  Female             0     Yes        Yes      22          Yes   \n",
       "4  6923-JHPMP  Female             0      No         No       2          Yes   \n",
       "5  2832-KJCRD  Female             0      No         No      38          Yes   \n",
       "6  0868-VJRDR    Male             0     Yes         No      64          Yes   \n",
       "7  5025-GOOKI  Female             0      No         No      20          Yes   \n",
       "8  1097-FSPVW  Female             0      No         No      42          Yes   \n",
       "9  0576-WNXXC    Male             1     Yes         No      27          Yes   \n",
       "\n",
       "  MultipleLines InternetService       OnlineSecurity  ...  \\\n",
       "0            No             DSL                   No  ...   \n",
       "1           Yes              No  No internet service  ...   \n",
       "2            No              No  No internet service  ...   \n",
       "3            No     Fiber optic                   No  ...   \n",
       "4            No     Fiber optic                  Yes  ...   \n",
       "5           Yes     Fiber optic                   No  ...   \n",
       "6            No     Fiber optic                  Yes  ...   \n",
       "7            No              No  No internet service  ...   \n",
       "8            No             DSL                  Yes  ...   \n",
       "9           Yes     Fiber optic                   No  ...   \n",
       "\n",
       "      DeviceProtection          TechSupport          StreamingTV  \\\n",
       "0                  Yes                  Yes                  Yes   \n",
       "1  No internet service  No internet service  No internet service   \n",
       "2  No internet service  No internet service  No internet service   \n",
       "3                   No                   No                   No   \n",
       "4                  Yes                   No                   No   \n",
       "5                  Yes                  Yes                  Yes   \n",
       "6                   No                  Yes                  Yes   \n",
       "7  No internet service  No internet service  No internet service   \n",
       "8                  Yes                   No                   No   \n",
       "9                  Yes                   No                   No   \n",
       "\n",
       "       StreamingMovies        Contract PaperlessBilling  \\\n",
       "0                   No        One year              Yes   \n",
       "1  No internet service        Two year               No   \n",
       "2  No internet service        Two year               No   \n",
       "3                  Yes  Month-to-month               No   \n",
       "4                   No  Month-to-month              Yes   \n",
       "5                  Yes  Month-to-month              Yes   \n",
       "6                  Yes        Two year              Yes   \n",
       "7  No internet service  Month-to-month              Yes   \n",
       "8                   No  Month-to-month               No   \n",
       "9                  Yes  Month-to-month              Yes   \n",
       "\n",
       "               PaymentMethod MonthlyCharges  TotalCharges  Churn  \n",
       "0           Electronic check          70.95       3250.45     No  \n",
       "1  Bank transfer (automatic)          23.95       1756.20     No  \n",
       "2               Mailed check          19.65        225.75     No  \n",
       "3           Electronic check          83.30       1845.90    Yes  \n",
       "4           Electronic check          80.45        137.10     No  \n",
       "5           Electronic check         103.65       3988.50     No  \n",
       "6    Credit card (automatic)         104.05       6605.55     No  \n",
       "7    Credit card (automatic)          18.90        347.65     No  \n",
       "8    Credit card (automatic)          54.55       2455.05     No  \n",
       "9           Electronic check          95.55       2510.20    Yes  \n",
       "\n",
       "[10 rows x 21 columns]"
      ]
     },
     "execution_count": 61,
     "metadata": {},
     "output_type": "execute_result"
    }
   ],
   "source": [
    "df_inf"
   ]
  },
  {
   "cell_type": "code",
   "execution_count": 62,
   "metadata": {},
   "outputs": [
    {
     "name": "stdout",
     "output_type": "stream",
     "text": [
      "<class 'pandas.core.frame.DataFrame'>\n",
      "RangeIndex: 7043 entries, 0 to 7042\n",
      "Data columns (total 21 columns):\n",
      " #   Column            Non-Null Count  Dtype  \n",
      "---  ------            --------------  -----  \n",
      " 0   customerID        7043 non-null   object \n",
      " 1   gender            7043 non-null   object \n",
      " 2   SeniorCitizen     7043 non-null   object \n",
      " 3   Partner           7043 non-null   object \n",
      " 4   Dependents        7043 non-null   object \n",
      " 5   tenure            7043 non-null   int64  \n",
      " 6   PhoneService      7043 non-null   object \n",
      " 7   MultipleLines     7043 non-null   object \n",
      " 8   InternetService   7043 non-null   object \n",
      " 9   OnlineSecurity    7043 non-null   object \n",
      " 10  OnlineBackup      7043 non-null   object \n",
      " 11  DeviceProtection  7043 non-null   object \n",
      " 12  TechSupport       7043 non-null   object \n",
      " 13  StreamingTV       7043 non-null   object \n",
      " 14  StreamingMovies   7043 non-null   object \n",
      " 15  Contract          7043 non-null   object \n",
      " 16  PaperlessBilling  7043 non-null   object \n",
      " 17  PaymentMethod     7043 non-null   object \n",
      " 18  MonthlyCharges    7043 non-null   float64\n",
      " 19  TotalCharges      7032 non-null   float64\n",
      " 20  Churn             7043 non-null   object \n",
      "dtypes: float64(2), int64(1), object(18)\n",
      "memory usage: 1.1+ MB\n"
     ]
    }
   ],
   "source": [
    "df.info()"
   ]
  },
  {
   "cell_type": "code",
   "execution_count": 63,
   "metadata": {},
   "outputs": [],
   "source": [
    " # make numerik and categorical data\n",
    "data_inf_num = df_inf[numeric]\n",
    "data_inf_cat = df_inf[category]\n",
    "\n",
    "# Feature Scaling\n",
    "data_inf_num_scaled = scaler.transform(data_inf_num)\n",
    "\n",
    "# Feature Encoding\n",
    "data_inf_cat_scaled =encoder.transform(data_inf_cat)\n",
    "\n",
    "# concate numerical and categorical columns\n",
    "data_inf_final = np.concatenate([data_inf_num_scaled, data_inf_cat_scaled], axis=1)"
   ]
  },
  {
   "cell_type": "code",
   "execution_count": 64,
   "metadata": {},
   "outputs": [
    {
     "name": "stdout",
     "output_type": "stream",
     "text": [
      "1/1 [==============================] - 0s 17ms/step\n"
     ]
    },
    {
     "data": {
      "text/plain": [
       "array([[0],\n",
       "       [0],\n",
       "       [0],\n",
       "       [1],\n",
       "       [1],\n",
       "       [1],\n",
       "       [0],\n",
       "       [1],\n",
       "       [0],\n",
       "       [1]])"
      ]
     },
     "execution_count": 64,
     "metadata": {},
     "output_type": "execute_result"
    }
   ],
   "source": [
    "# Predict df_inf dengan model yang telah dipotimasi\n",
    "y_pred_inf = model_sequential.predict(data_inf_final)\n",
    "y_pred_inf = np.where(y_pred_inf >= 0.5, 1, 0)\n",
    "y_pred_inf"
   ]
  },
  {
   "cell_type": "code",
   "execution_count": 65,
   "metadata": {},
   "outputs": [
    {
     "data": {
      "text/plain": [
       "0     No\n",
       "1     No\n",
       "2     No\n",
       "3    Yes\n",
       "4     No\n",
       "5     No\n",
       "6     No\n",
       "7     No\n",
       "8     No\n",
       "9    Yes\n",
       "Name: Churn, dtype: object"
      ]
     },
     "execution_count": 65,
     "metadata": {},
     "output_type": "execute_result"
    }
   ],
   "source": [
    "# menampilkan nilai Churn dari data inference\n",
    "df_inf.Churn"
   ]
  },
  {
   "cell_type": "markdown",
   "metadata": {},
   "source": [
    "# 11. Conclution"
   ]
  },
  {
   "cell_type": "markdown",
   "metadata": {},
   "source": [
    "**`Berikut merupakan kesimpulan dan saran untuk pengembangan model`**\n",
    "\n",
    "1. Data set yang memiliki kolom target yang imbalance sehingga perlu dilakukan penanganan dengan oversampling\n",
    "\n",
    "2. Kolom2 numerikal cenderung terdistribusi normal dan tidak memiliki outlier\n",
    "\n",
    "3. metrik yang digunakan untuk mengevaluasi model adalah Recall. karena kita ingin membuat model yang sebisa mungkin tidak akan menghasilkan nilai False Negative atau memprediksi kostumer tidak akan keluar(Churn=No) padahal dia akan keluar (Churn= Yes)\n",
    "\n",
    "4. Model dapat memprediksi pelanggan yang akan keluar dengan tepat sebesar 84%\n",
    "\n",
    "5. Optimasi model yang dilakukan ternyata belum membuahkan hasil. sehingga masih terdapat ruang untuk melakukan pernaikan terhadapt model\n",
    "\n",
    "6. optimasi yang mungkin dapat dilakukan adalah mencoba dengan mengubah-ubah activation function yang ada, atau melakukan variasi terhadap metode inisiasi pembobotan.  \n",
    "\n"
   ]
  }
 ],
 "metadata": {
  "kernelspec": {
   "display_name": "Python 3.10.5 64-bit",
   "language": "python",
   "name": "python3"
  },
  "language_info": {
   "codemirror_mode": {
    "name": "ipython",
    "version": 3
   },
   "file_extension": ".py",
   "mimetype": "text/x-python",
   "name": "python",
   "nbconvert_exporter": "python",
   "pygments_lexer": "ipython3",
   "version": "3.10.5"
  },
  "orig_nbformat": 4,
  "vscode": {
   "interpreter": {
    "hash": "a9cff5a362bc38ef45d817ae74b1af54d6a076e3d773891282bce078b815ba34"
   }
  }
 },
 "nbformat": 4,
 "nbformat_minor": 2
}
